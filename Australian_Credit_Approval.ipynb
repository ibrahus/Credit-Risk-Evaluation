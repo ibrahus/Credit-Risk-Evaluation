{
  "nbformat": 4,
  "nbformat_minor": 0,
  "metadata": {
    "colab": {
      "name": "Australian Credit Approval.ipynb",
      "provenance": [],
      "toc_visible": true,
      "collapsed_sections": []
    },
    "kernelspec": {
      "name": "python3",
      "display_name": "Python 3"
    },
    "language_info": {
      "name": "python"
    }
  },
  "cells": [
    {
      "cell_type": "code",
      "execution_count": 1,
      "metadata": {
        "id": "tEkaAOgtESFU"
      },
      "outputs": [],
      "source": [
        "import pandas as pd\n",
        "import numpy as np\n",
        "import matplotlib.pyplot as plt\n",
        "import seaborn as sns\n",
        "from sklearn.model_selection import train_test_split, GridSearchCV\n",
        "from sklearn.metrics import classification_report, roc_curve, roc_auc_score, confusion_matrix\n",
        "from sklearn.neighbors import KNeighborsClassifier\n",
        "from sklearn.svm import SVC\n",
        "from xgboost import XGBClassifier\n",
        "from sklearn.linear_model import LogisticRegression\n",
        "from sklearn.ensemble import RandomForestClassifier as rfc\n",
        "from imblearn.over_sampling import SMOTE\n",
        "\n",
        "%matplotlib inline "
      ]
    },
    {
      "cell_type": "code",
      "source": [
        "australian_data_url = 'https://raw.githubusercontent.com/ibrahus/datasets/master/australian_credit_approval.csv'"
      ],
      "metadata": {
        "id": "WHyudV8LMKmM"
      },
      "execution_count": 2,
      "outputs": []
    },
    {
      "cell_type": "code",
      "source": [
        "data = pd.read_csv(australian_data_url)"
      ],
      "metadata": {
        "id": "OEPqT8FuMKXa"
      },
      "execution_count": 3,
      "outputs": []
    },
    {
      "cell_type": "markdown",
      "source": [
        "The dataset is labelled on which columns are continuous (N), categorical (C) and if they require further encoding (C_enc)."
      ],
      "metadata": {
        "id": "SmTYVAZENT4w"
      }
    },
    {
      "cell_type": "code",
      "source": [
        "data.head()"
      ],
      "metadata": {
        "colab": {
          "base_uri": "https://localhost:8080/",
          "height": 206
        },
        "id": "HN-UyntwMsXY",
        "outputId": "2d420fb2-df69-46ed-da8a-272b6ff02465"
      },
      "execution_count": 4,
      "outputs": [
        {
          "output_type": "execute_result",
          "data": {
            "text/plain": [
              "   C1     N2     N3  C4_enc  C5_enc  C6_enc     N7  C8  C9  N10  C11  C12_enc  \\\n",
              "0   1  22.08  11.46       2       4       4  1.585   0   0    0    1        2   \n",
              "1   0  22.67   7.00       2       8       4  0.165   0   0    0    0        2   \n",
              "2   0  29.58   1.75       1       4       4  1.250   0   0    0    1        2   \n",
              "3   0  21.67  11.50       1       5       3  0.000   1   1   11    1        2   \n",
              "4   1  20.17   8.17       2       6       4  1.960   1   1   14    0        2   \n",
              "\n",
              "   N13   N14  Target  \n",
              "0  100  1213       0  \n",
              "1  160     1       0  \n",
              "2  280     1       0  \n",
              "3    0     1       1  \n",
              "4   60   159       1  "
            ],
            "text/html": [
              "\n",
              "  <div id=\"df-bbef6a0f-3a49-462b-99eb-753a6e427bc5\">\n",
              "    <div class=\"colab-df-container\">\n",
              "      <div>\n",
              "<style scoped>\n",
              "    .dataframe tbody tr th:only-of-type {\n",
              "        vertical-align: middle;\n",
              "    }\n",
              "\n",
              "    .dataframe tbody tr th {\n",
              "        vertical-align: top;\n",
              "    }\n",
              "\n",
              "    .dataframe thead th {\n",
              "        text-align: right;\n",
              "    }\n",
              "</style>\n",
              "<table border=\"1\" class=\"dataframe\">\n",
              "  <thead>\n",
              "    <tr style=\"text-align: right;\">\n",
              "      <th></th>\n",
              "      <th>C1</th>\n",
              "      <th>N2</th>\n",
              "      <th>N3</th>\n",
              "      <th>C4_enc</th>\n",
              "      <th>C5_enc</th>\n",
              "      <th>C6_enc</th>\n",
              "      <th>N7</th>\n",
              "      <th>C8</th>\n",
              "      <th>C9</th>\n",
              "      <th>N10</th>\n",
              "      <th>C11</th>\n",
              "      <th>C12_enc</th>\n",
              "      <th>N13</th>\n",
              "      <th>N14</th>\n",
              "      <th>Target</th>\n",
              "    </tr>\n",
              "  </thead>\n",
              "  <tbody>\n",
              "    <tr>\n",
              "      <th>0</th>\n",
              "      <td>1</td>\n",
              "      <td>22.08</td>\n",
              "      <td>11.46</td>\n",
              "      <td>2</td>\n",
              "      <td>4</td>\n",
              "      <td>4</td>\n",
              "      <td>1.585</td>\n",
              "      <td>0</td>\n",
              "      <td>0</td>\n",
              "      <td>0</td>\n",
              "      <td>1</td>\n",
              "      <td>2</td>\n",
              "      <td>100</td>\n",
              "      <td>1213</td>\n",
              "      <td>0</td>\n",
              "    </tr>\n",
              "    <tr>\n",
              "      <th>1</th>\n",
              "      <td>0</td>\n",
              "      <td>22.67</td>\n",
              "      <td>7.00</td>\n",
              "      <td>2</td>\n",
              "      <td>8</td>\n",
              "      <td>4</td>\n",
              "      <td>0.165</td>\n",
              "      <td>0</td>\n",
              "      <td>0</td>\n",
              "      <td>0</td>\n",
              "      <td>0</td>\n",
              "      <td>2</td>\n",
              "      <td>160</td>\n",
              "      <td>1</td>\n",
              "      <td>0</td>\n",
              "    </tr>\n",
              "    <tr>\n",
              "      <th>2</th>\n",
              "      <td>0</td>\n",
              "      <td>29.58</td>\n",
              "      <td>1.75</td>\n",
              "      <td>1</td>\n",
              "      <td>4</td>\n",
              "      <td>4</td>\n",
              "      <td>1.250</td>\n",
              "      <td>0</td>\n",
              "      <td>0</td>\n",
              "      <td>0</td>\n",
              "      <td>1</td>\n",
              "      <td>2</td>\n",
              "      <td>280</td>\n",
              "      <td>1</td>\n",
              "      <td>0</td>\n",
              "    </tr>\n",
              "    <tr>\n",
              "      <th>3</th>\n",
              "      <td>0</td>\n",
              "      <td>21.67</td>\n",
              "      <td>11.50</td>\n",
              "      <td>1</td>\n",
              "      <td>5</td>\n",
              "      <td>3</td>\n",
              "      <td>0.000</td>\n",
              "      <td>1</td>\n",
              "      <td>1</td>\n",
              "      <td>11</td>\n",
              "      <td>1</td>\n",
              "      <td>2</td>\n",
              "      <td>0</td>\n",
              "      <td>1</td>\n",
              "      <td>1</td>\n",
              "    </tr>\n",
              "    <tr>\n",
              "      <th>4</th>\n",
              "      <td>1</td>\n",
              "      <td>20.17</td>\n",
              "      <td>8.17</td>\n",
              "      <td>2</td>\n",
              "      <td>6</td>\n",
              "      <td>4</td>\n",
              "      <td>1.960</td>\n",
              "      <td>1</td>\n",
              "      <td>1</td>\n",
              "      <td>14</td>\n",
              "      <td>0</td>\n",
              "      <td>2</td>\n",
              "      <td>60</td>\n",
              "      <td>159</td>\n",
              "      <td>1</td>\n",
              "    </tr>\n",
              "  </tbody>\n",
              "</table>\n",
              "</div>\n",
              "      <button class=\"colab-df-convert\" onclick=\"convertToInteractive('df-bbef6a0f-3a49-462b-99eb-753a6e427bc5')\"\n",
              "              title=\"Convert this dataframe to an interactive table.\"\n",
              "              style=\"display:none;\">\n",
              "        \n",
              "  <svg xmlns=\"http://www.w3.org/2000/svg\" height=\"24px\"viewBox=\"0 0 24 24\"\n",
              "       width=\"24px\">\n",
              "    <path d=\"M0 0h24v24H0V0z\" fill=\"none\"/>\n",
              "    <path d=\"M18.56 5.44l.94 2.06.94-2.06 2.06-.94-2.06-.94-.94-2.06-.94 2.06-2.06.94zm-11 1L8.5 8.5l.94-2.06 2.06-.94-2.06-.94L8.5 2.5l-.94 2.06-2.06.94zm10 10l.94 2.06.94-2.06 2.06-.94-2.06-.94-.94-2.06-.94 2.06-2.06.94z\"/><path d=\"M17.41 7.96l-1.37-1.37c-.4-.4-.92-.59-1.43-.59-.52 0-1.04.2-1.43.59L10.3 9.45l-7.72 7.72c-.78.78-.78 2.05 0 2.83L4 21.41c.39.39.9.59 1.41.59.51 0 1.02-.2 1.41-.59l7.78-7.78 2.81-2.81c.8-.78.8-2.07 0-2.86zM5.41 20L4 18.59l7.72-7.72 1.47 1.35L5.41 20z\"/>\n",
              "  </svg>\n",
              "      </button>\n",
              "      \n",
              "  <style>\n",
              "    .colab-df-container {\n",
              "      display:flex;\n",
              "      flex-wrap:wrap;\n",
              "      gap: 12px;\n",
              "    }\n",
              "\n",
              "    .colab-df-convert {\n",
              "      background-color: #E8F0FE;\n",
              "      border: none;\n",
              "      border-radius: 50%;\n",
              "      cursor: pointer;\n",
              "      display: none;\n",
              "      fill: #1967D2;\n",
              "      height: 32px;\n",
              "      padding: 0 0 0 0;\n",
              "      width: 32px;\n",
              "    }\n",
              "\n",
              "    .colab-df-convert:hover {\n",
              "      background-color: #E2EBFA;\n",
              "      box-shadow: 0px 1px 2px rgba(60, 64, 67, 0.3), 0px 1px 3px 1px rgba(60, 64, 67, 0.15);\n",
              "      fill: #174EA6;\n",
              "    }\n",
              "\n",
              "    [theme=dark] .colab-df-convert {\n",
              "      background-color: #3B4455;\n",
              "      fill: #D2E3FC;\n",
              "    }\n",
              "\n",
              "    [theme=dark] .colab-df-convert:hover {\n",
              "      background-color: #434B5C;\n",
              "      box-shadow: 0px 1px 3px 1px rgba(0, 0, 0, 0.15);\n",
              "      filter: drop-shadow(0px 1px 2px rgba(0, 0, 0, 0.3));\n",
              "      fill: #FFFFFF;\n",
              "    }\n",
              "  </style>\n",
              "\n",
              "      <script>\n",
              "        const buttonEl =\n",
              "          document.querySelector('#df-bbef6a0f-3a49-462b-99eb-753a6e427bc5 button.colab-df-convert');\n",
              "        buttonEl.style.display =\n",
              "          google.colab.kernel.accessAllowed ? 'block' : 'none';\n",
              "\n",
              "        async function convertToInteractive(key) {\n",
              "          const element = document.querySelector('#df-bbef6a0f-3a49-462b-99eb-753a6e427bc5');\n",
              "          const dataTable =\n",
              "            await google.colab.kernel.invokeFunction('convertToInteractive',\n",
              "                                                     [key], {});\n",
              "          if (!dataTable) return;\n",
              "\n",
              "          const docLinkHtml = 'Like what you see? Visit the ' +\n",
              "            '<a target=\"_blank\" href=https://colab.research.google.com/notebooks/data_table.ipynb>data table notebook</a>'\n",
              "            + ' to learn more about interactive tables.';\n",
              "          element.innerHTML = '';\n",
              "          dataTable['output_type'] = 'display_data';\n",
              "          await google.colab.output.renderOutput(dataTable, element);\n",
              "          const docLink = document.createElement('div');\n",
              "          docLink.innerHTML = docLinkHtml;\n",
              "          element.appendChild(docLink);\n",
              "        }\n",
              "      </script>\n",
              "    </div>\n",
              "  </div>\n",
              "  "
            ]
          },
          "metadata": {},
          "execution_count": 4
        }
      ]
    },
    {
      "cell_type": "code",
      "source": [
        "data.info()"
      ],
      "metadata": {
        "colab": {
          "base_uri": "https://localhost:8080/"
        },
        "id": "tG0hKKjjMsUs",
        "outputId": "53bc0df9-9b7f-414c-a463-40101dc818bc"
      },
      "execution_count": 5,
      "outputs": [
        {
          "output_type": "stream",
          "name": "stdout",
          "text": [
            "<class 'pandas.core.frame.DataFrame'>\n",
            "RangeIndex: 690 entries, 0 to 689\n",
            "Data columns (total 15 columns):\n",
            " #   Column   Non-Null Count  Dtype  \n",
            "---  ------   --------------  -----  \n",
            " 0   C1       690 non-null    int64  \n",
            " 1   N2       690 non-null    float64\n",
            " 2   N3       690 non-null    float64\n",
            " 3   C4_enc   690 non-null    int64  \n",
            " 4   C5_enc   690 non-null    int64  \n",
            " 5   C6_enc   690 non-null    int64  \n",
            " 6   N7       690 non-null    float64\n",
            " 7   C8       690 non-null    int64  \n",
            " 8   C9       690 non-null    int64  \n",
            " 9   N10      690 non-null    int64  \n",
            " 10  C11      690 non-null    int64  \n",
            " 11  C12_enc  690 non-null    int64  \n",
            " 12  N13      690 non-null    int64  \n",
            " 13  N14      690 non-null    int64  \n",
            " 14  Target   690 non-null    int64  \n",
            "dtypes: float64(3), int64(12)\n",
            "memory usage: 81.0 KB\n"
          ]
        }
      ]
    },
    {
      "cell_type": "code",
      "source": [
        "data['Target'].value_counts(normalize=False)"
      ],
      "metadata": {
        "colab": {
          "base_uri": "https://localhost:8080/"
        },
        "id": "N0E_4svzaUMZ",
        "outputId": "e2405208-4519-4a11-a952-38cbc8fbb59a"
      },
      "execution_count": 6,
      "outputs": [
        {
          "output_type": "execute_result",
          "data": {
            "text/plain": [
              "0    383\n",
              "1    307\n",
              "Name: Target, dtype: int64"
            ]
          },
          "metadata": {},
          "execution_count": 6
        }
      ]
    },
    {
      "cell_type": "code",
      "source": [
        "#One hot encoding of categorical variables\n",
        "data = pd.get_dummies(data=data,columns=[\n",
        "                                       'C4_enc','C5_enc', 'C6_enc',\n",
        "                                       'C12_enc'])"
      ],
      "metadata": {
        "id": "yPFkafusZxWa"
      },
      "execution_count": 7,
      "outputs": []
    },
    {
      "cell_type": "code",
      "source": [
        "data.info()"
      ],
      "metadata": {
        "colab": {
          "base_uri": "https://localhost:8080/"
        },
        "id": "cpayHXr9aH2y",
        "outputId": "811327c0-ba16-41dd-8931-9c608c391e08"
      },
      "execution_count": 8,
      "outputs": [
        {
          "output_type": "stream",
          "name": "stdout",
          "text": [
            "<class 'pandas.core.frame.DataFrame'>\n",
            "RangeIndex: 690 entries, 0 to 689\n",
            "Data columns (total 39 columns):\n",
            " #   Column     Non-Null Count  Dtype  \n",
            "---  ------     --------------  -----  \n",
            " 0   C1         690 non-null    int64  \n",
            " 1   N2         690 non-null    float64\n",
            " 2   N3         690 non-null    float64\n",
            " 3   N7         690 non-null    float64\n",
            " 4   C8         690 non-null    int64  \n",
            " 5   C9         690 non-null    int64  \n",
            " 6   N10        690 non-null    int64  \n",
            " 7   C11        690 non-null    int64  \n",
            " 8   N13        690 non-null    int64  \n",
            " 9   N14        690 non-null    int64  \n",
            " 10  Target     690 non-null    int64  \n",
            " 11  C4_enc_1   690 non-null    uint8  \n",
            " 12  C4_enc_2   690 non-null    uint8  \n",
            " 13  C4_enc_3   690 non-null    uint8  \n",
            " 14  C5_enc_1   690 non-null    uint8  \n",
            " 15  C5_enc_2   690 non-null    uint8  \n",
            " 16  C5_enc_3   690 non-null    uint8  \n",
            " 17  C5_enc_4   690 non-null    uint8  \n",
            " 18  C5_enc_5   690 non-null    uint8  \n",
            " 19  C5_enc_6   690 non-null    uint8  \n",
            " 20  C5_enc_7   690 non-null    uint8  \n",
            " 21  C5_enc_8   690 non-null    uint8  \n",
            " 22  C5_enc_9   690 non-null    uint8  \n",
            " 23  C5_enc_10  690 non-null    uint8  \n",
            " 24  C5_enc_11  690 non-null    uint8  \n",
            " 25  C5_enc_12  690 non-null    uint8  \n",
            " 26  C5_enc_13  690 non-null    uint8  \n",
            " 27  C5_enc_14  690 non-null    uint8  \n",
            " 28  C6_enc_1   690 non-null    uint8  \n",
            " 29  C6_enc_2   690 non-null    uint8  \n",
            " 30  C6_enc_3   690 non-null    uint8  \n",
            " 31  C6_enc_4   690 non-null    uint8  \n",
            " 32  C6_enc_5   690 non-null    uint8  \n",
            " 33  C6_enc_7   690 non-null    uint8  \n",
            " 34  C6_enc_8   690 non-null    uint8  \n",
            " 35  C6_enc_9   690 non-null    uint8  \n",
            " 36  C12_enc_1  690 non-null    uint8  \n",
            " 37  C12_enc_2  690 non-null    uint8  \n",
            " 38  C12_enc_3  690 non-null    uint8  \n",
            "dtypes: float64(3), int64(8), uint8(28)\n",
            "memory usage: 78.3 KB\n"
          ]
        }
      ]
    },
    {
      "cell_type": "code",
      "source": [
        "#Train and test split\n",
        "y = data['Target']\n",
        "X = data.drop('Target', axis=1)\n",
        "\n",
        "X_train, X_test, y_train, y_test = train_test_split(X, y, test_size=0.3, random_state=0)"
      ],
      "metadata": {
        "id": "eTjfSeojbFAy"
      },
      "execution_count": 9,
      "outputs": []
    },
    {
      "cell_type": "markdown",
      "source": [
        "####Model training and evaluation"
      ],
      "metadata": {
        "id": "6sIrSZAYat0O"
      }
    },
    {
      "cell_type": "code",
      "source": [
        "def model_assess(model, name='Default'):\n",
        "  model.fit(X_train, y_train)\n",
        "  preds = model.predict(X_test)\n",
        "  # preds_proba = model.predict_proba(x_test)\n",
        "  print('                   ', name, '\\n',\n",
        "  classification_report(y_test, preds))"
      ],
      "metadata": {
        "id": "ENoT0Co8auzq"
      },
      "execution_count": 10,
      "outputs": []
    },
    {
      "cell_type": "markdown",
      "source": [
        "parameter tuning with KNN model and GridSearchCV"
      ],
      "metadata": {
        "id": "KqPpBeoua1Jq"
      }
    },
    {
      "cell_type": "code",
      "source": [
        "# k_range = list(range(1,31))\n",
        "# weight_options = [\"uniform\", \"distance\"]\n",
        "\n",
        "# param_grid = dict(n_neighbors = k_range, weights = weight_options)\n",
        "# #print (param_grid)\n",
        "# knn = KNeighborsClassifier()\n",
        "\n",
        "# grid = GridSearchCV(knn, param_grid, cv = 5, scoring = 'roc_auc',\n",
        "#                     verbose=True, n_jobs=-1)\n",
        "# grid.fit(X,y)\n",
        "\n",
        "# print (grid.best_score_)\n",
        "# print (grid.best_params_)\n",
        "# print (grid.best_estimator_)"
      ],
      "metadata": {
        "id": "dBA5T7UTauxT"
      },
      "execution_count": 11,
      "outputs": []
    },
    {
      "cell_type": "markdown",
      "source": [
        "\n",
        "\n",
        "```\n",
        "0.7483851267994996\n",
        "{'n_neighbors': 26, 'weights': 'distance'}\n",
        "KNeighborsClassifier(n_neighbors=26, weights='distance')\n",
        "```\n",
        "\n"
      ],
      "metadata": {
        "id": "QyNCCh5VbSaF"
      }
    },
    {
      "cell_type": "code",
      "source": [
        "#KNN\n",
        "knn = KNeighborsClassifier(n_neighbors=26, weights='distance')\n",
        "model_assess(knn, name='KNN')"
      ],
      "metadata": {
        "colab": {
          "base_uri": "https://localhost:8080/"
        },
        "id": "G8KYpZdHbc5X",
        "outputId": "3f4521e6-7214-40c4-91d4-a40f4bad6e7e"
      },
      "execution_count": 12,
      "outputs": [
        {
          "output_type": "stream",
          "name": "stdout",
          "text": [
            "                    KNN \n",
            "               precision    recall  f1-score   support\n",
            "\n",
            "           0       0.72      0.80      0.76       118\n",
            "           1       0.68      0.58      0.63        89\n",
            "\n",
            "    accuracy                           0.71       207\n",
            "   macro avg       0.70      0.69      0.69       207\n",
            "weighted avg       0.70      0.71      0.70       207\n",
            "\n"
          ]
        }
      ]
    },
    {
      "cell_type": "markdown",
      "source": [
        "parameter tuning with SVM model and GridSearchCV"
      ],
      "metadata": {
        "id": "es_rxf4HcMAL"
      }
    },
    {
      "cell_type": "code",
      "source": [
        "# tuned_parameters = [\n",
        "#     {\"kernel\": [\"rbf\"], \"gamma\": [1e-3, 1e-4], \"C\": [1, 10, 100, 1000]},\n",
        "#     {\"kernel\": [\"linear\"], \"C\": [1, 10, 100, 1000]},\n",
        "# ]\n",
        "# clf = GridSearchCV(SVC(), tuned_parameters, scoring='roc_auc', \n",
        "#                    verbose=True, n_jobs=-1)\n",
        "# clf.fit(X_train, y_train)\n",
        "\n",
        "# print(clf.best_score_)\n",
        "# print(clf.best_params_)\n",
        "# print(clf.best_estimator_)"
      ],
      "metadata": {
        "id": "zQEckiawbc3D"
      },
      "execution_count": 13,
      "outputs": []
    },
    {
      "cell_type": "markdown",
      "source": [
        "\n",
        "\n",
        "```\n",
        "0.9265336629930647\n",
        "{'C': 1, 'kernel': 'linear'}\n",
        "SVC(C=1, kernel='linear'\n",
        "```\n",
        "\n"
      ],
      "metadata": {
        "id": "xGmL_9LoE12Q"
      }
    },
    {
      "cell_type": "code",
      "source": [
        "#Support Vector Machines\n",
        "svm = SVC(C=100, gamma=0.0001, kernel='rbf', probability=True)\n",
        "model_assess(svm, 'SVM')"
      ],
      "metadata": {
        "id": "Y5ldPQMGauvI",
        "colab": {
          "base_uri": "https://localhost:8080/"
        },
        "outputId": "d9e2620f-b2c4-4548-af6b-ae4b366aa812"
      },
      "execution_count": 14,
      "outputs": [
        {
          "output_type": "stream",
          "name": "stdout",
          "text": [
            "                    SVM \n",
            "               precision    recall  f1-score   support\n",
            "\n",
            "           0       0.77      0.79      0.78       118\n",
            "           1       0.71      0.69      0.70        89\n",
            "\n",
            "    accuracy                           0.74       207\n",
            "   macro avg       0.74      0.74      0.74       207\n",
            "weighted avg       0.74      0.74      0.74       207\n",
            "\n"
          ]
        }
      ]
    },
    {
      "cell_type": "markdown",
      "source": [
        "parameter tuning with LogisticRegression model and GridSearchCV"
      ],
      "metadata": {
        "id": "PuMVdEQScZcp"
      }
    },
    {
      "cell_type": "code",
      "source": [
        "# # parameter grid\n",
        "# parameters = {\n",
        "#     'penalty' : ['l1','l2'], \n",
        "#     'C'       : np.logspace(-3,3,7),\n",
        "#     'solver'  : ['newton-cg', 'lbfgs', 'liblinear']}\n",
        "\n",
        "# param_grid = [    \n",
        "#     {'penalty' : ['l1', 'l2'],\n",
        "#     'C' : np.logspace(-3,3,7),\n",
        "#     'solver' : ['lbfgs','newton-cg','liblinear'],\n",
        "#     }\n",
        "# ]\n",
        "\n",
        "# logreg=LogisticRegression()\n",
        "# logreg_cv=GridSearchCV(logreg, param_grid=param_grid, scoring='roc_auc', cv=5,\n",
        "#                        verbose=True, n_jobs=-1)\n",
        "# logreg_cv.fit(X, y)\n",
        "\n",
        "# print(\"tuned hpyerparameters :(best parameters) \",logreg_cv.best_params_)\n",
        "# print(\"accuracy :\",logreg_cv.best_score_)"
      ],
      "metadata": {
        "id": "lJCC3ELRcabs"
      },
      "execution_count": 15,
      "outputs": []
    },
    {
      "cell_type": "markdown",
      "source": [
        "\n",
        "\n",
        "```\n",
        "(best parameters)  {'C': 1.0, 'penalty': 'l2', 'solver': 'lbfgs'}\n",
        "accuracy : 0.9269801860306746\n",
        "```\n",
        "\n"
      ],
      "metadata": {
        "id": "1P3o1o-vcoCt"
      }
    },
    {
      "cell_type": "code",
      "source": [
        "#Logistic Regression\n",
        "lg = LogisticRegression(C=1, penalty='l2', solver='lbfgs')\n",
        "model_assess(lg, 'Logistic Regression')"
      ],
      "metadata": {
        "colab": {
          "base_uri": "https://localhost:8080/"
        },
        "id": "tm_uiXJncaY5",
        "outputId": "d3fda0f4-a052-4d38-ac2f-77f88b2376d7"
      },
      "execution_count": 16,
      "outputs": [
        {
          "output_type": "stream",
          "name": "stdout",
          "text": [
            "                    Logistic Regression \n",
            "               precision    recall  f1-score   support\n",
            "\n",
            "           0       0.88      0.89      0.88       118\n",
            "           1       0.85      0.83      0.84        89\n",
            "\n",
            "    accuracy                           0.86       207\n",
            "   macro avg       0.86      0.86      0.86       207\n",
            "weighted avg       0.86      0.86      0.86       207\n",
            "\n"
          ]
        },
        {
          "output_type": "stream",
          "name": "stderr",
          "text": [
            "/usr/local/lib/python3.7/dist-packages/sklearn/linear_model/_logistic.py:818: ConvergenceWarning: lbfgs failed to converge (status=1):\n",
            "STOP: TOTAL NO. of ITERATIONS REACHED LIMIT.\n",
            "\n",
            "Increase the number of iterations (max_iter) or scale the data as shown in:\n",
            "    https://scikit-learn.org/stable/modules/preprocessing.html\n",
            "Please also refer to the documentation for alternative solver options:\n",
            "    https://scikit-learn.org/stable/modules/linear_model.html#logistic-regression\n",
            "  extra_warning_msg=_LOGISTIC_SOLVER_CONVERGENCE_MSG,\n"
          ]
        }
      ]
    },
    {
      "cell_type": "markdown",
      "source": [
        "parameter tuning with XGBoost model and GridSearchCV"
      ],
      "metadata": {
        "id": "PGYL2z0Idm0g"
      }
    },
    {
      "cell_type": "code",
      "source": [
        "# # Grid search cross validation\n",
        "\n",
        "# parameters = {\n",
        "#     'max_depth': range(2, 10, 1),\n",
        "#     'n_estimators': range(60, 220, 40),\n",
        "#     'learning_rate': [0.1, 0.01, 0.05]\n",
        "# }\n",
        "\n",
        "# xgb_estimator = XGBClassifier()\n",
        "\n",
        "# xgb_grid_search = GridSearchCV(\n",
        "#     estimator=xgb_estimator,\n",
        "#     param_grid=parameters,\n",
        "#     scoring = 'roc_auc',\n",
        "#     n_jobs = -1,\n",
        "#     cv = 5,\n",
        "#     verbose=True\n",
        "# )\n",
        "\n",
        "# xgb_grid_search.fit(X, y)\n",
        "\n",
        "# print(xgb_grid_search.best_params_)\n",
        "# print(xgb_grid_search.best_score_)"
      ],
      "metadata": {
        "id": "PlGbgXaccaWq"
      },
      "execution_count": 17,
      "outputs": []
    },
    {
      "cell_type": "markdown",
      "source": [
        "\n",
        "\n",
        "```\n",
        "{'learning_rate': 0.05, 'max_depth': 2, 'n_estimators': 140}\n",
        "0.9337931130769087\n",
        "```\n",
        "\n"
      ],
      "metadata": {
        "id": "Ue48iS95eDin"
      }
    },
    {
      "cell_type": "code",
      "source": [
        "#XGB\n",
        "xgb = XGBClassifier(n_estimators=140, learning_rate=0.05, max_depth=2)\n",
        "model_assess(xgb, 'XGBoost')"
      ],
      "metadata": {
        "colab": {
          "base_uri": "https://localhost:8080/"
        },
        "id": "UO1uD9nOcaUt",
        "outputId": "7b508442-ab96-4fef-c498-0d86dab262e8"
      },
      "execution_count": 18,
      "outputs": [
        {
          "output_type": "stream",
          "name": "stdout",
          "text": [
            "                    XGBoost \n",
            "               precision    recall  f1-score   support\n",
            "\n",
            "           0       0.85      0.88      0.87       118\n",
            "           1       0.84      0.80      0.82        89\n",
            "\n",
            "    accuracy                           0.85       207\n",
            "   macro avg       0.84      0.84      0.84       207\n",
            "weighted avg       0.85      0.85      0.84       207\n",
            "\n"
          ]
        }
      ]
    },
    {
      "cell_type": "code",
      "source": [
        "# Random Forest\n",
        "rfc_model = rfc(random_state=11)\n",
        "model_assess(rfc_model, 'Random Forest')"
      ],
      "metadata": {
        "colab": {
          "base_uri": "https://localhost:8080/"
        },
        "id": "t1j15oZ6c85H",
        "outputId": "dc3d9518-0353-4ea6-c2ed-55fd0d6af1d3"
      },
      "execution_count": 19,
      "outputs": [
        {
          "output_type": "stream",
          "name": "stdout",
          "text": [
            "                    Random Forest \n",
            "               precision    recall  f1-score   support\n",
            "\n",
            "           0       0.86      0.89      0.88       118\n",
            "           1       0.85      0.81      0.83        89\n",
            "\n",
            "    accuracy                           0.86       207\n",
            "   macro avg       0.85      0.85      0.85       207\n",
            "weighted avg       0.85      0.86      0.85       207\n",
            "\n"
          ]
        }
      ]
    },
    {
      "cell_type": "code",
      "source": [
        "#ROC AUC\n",
        "fig = plt.figure(figsize=(14,10))\n",
        "plt.plot([0, 1], [0, 1],'r--')\n",
        "\n",
        "#KNN\n",
        "preds_proba_knn = knn.predict_proba(X_test)\n",
        "probsknn = preds_proba_knn[:, 1]\n",
        "fpr, tpr, thresh = roc_curve(y_test, probsknn)\n",
        "aucknn = roc_auc_score(y_test, probsknn)\n",
        "plt.plot(fpr, tpr, label=f'KNN, AUC = {str(round(aucknn,3))}')\n",
        "\n",
        "#Support Vector Machines\n",
        "preds_proba_svm = svm.predict_proba(X_test)\n",
        "probs_svm = preds_proba_svm[:, 1]\n",
        "fpr, tpr, thresh = roc_curve(y_test, probs_svm)\n",
        "auc_svm = roc_auc_score(y_test, probs_svm)\n",
        "plt.plot(fpr, tpr, label=f'Support Vector Machine, AUC = {str(round(auc_svm,3))}')\n",
        "\n",
        "#Logistic Regression\n",
        "preds_proba_lg = lg.predict_proba(X_test)\n",
        "probslg = preds_proba_lg[:, 1]\n",
        "fpr, tpr, thresh = roc_curve(y_test, probslg)\n",
        "auclg = roc_auc_score(y_test, probslg)\n",
        "plt.plot(fpr, tpr, label=f'Logistic Regression, AUC = {str(round(auclg,3))}')\n",
        "\n",
        "#XGBoost\n",
        "preds_proba_xgb = xgb.predict_proba(X_test)\n",
        "probsxgb = preds_proba_xgb[:, 1]\n",
        "fpr, tpr, thresh = roc_curve(y_test, probsxgb)\n",
        "aucxgb = roc_auc_score(y_test, probsxgb)\n",
        "plt.plot(fpr, tpr, label=f'XGBoost, AUC = {str(round(aucxgb,3))}')\n",
        "\n",
        "#Random Forest\n",
        "preds_proba_rfc = rfc_model.predict_proba(X_test)\n",
        "probs_rfc = preds_proba_rfc[:, 1]\n",
        "fpr, tpr, thresh = roc_curve(y_test, probs_rfc)\n",
        "auc_rfc = roc_auc_score(y_test, probs_rfc)\n",
        "plt.plot(fpr, tpr, label=f'Random Forest, AUC = {str(round(auc_rfc,3))}')\n",
        "\n",
        "plt.ylabel(\"True Positive Rate\")\n",
        "plt.xlabel(\"False Positive Rate\")\n",
        "plt.title(\"ROC curve\")\n",
        "plt.rcParams['axes.titlesize'] = 18\n",
        "plt.legend()\n",
        "plt.show()"
      ],
      "metadata": {
        "id": "2aOf2LJ_d16W",
        "colab": {
          "base_uri": "https://localhost:8080/",
          "height": 621
        },
        "outputId": "70ed0679-0e92-4034-95bc-ce21574c334c"
      },
      "execution_count": 20,
      "outputs": [
        {
          "output_type": "display_data",
          "data": {
            "text/plain": [
              "<Figure size 1008x720 with 1 Axes>"
            ],
            "image/png": "[encoded data removed]"
          },
          "metadata": {
            "needs_background": "light"
          }
        }
      ]
    },
    {
      "cell_type": "markdown",
      "source": [
        "####SMOTE"
      ],
      "metadata": {
        "id": "hG3G8YBO_yek"
      }
    },
    {
      "cell_type": "code",
      "source": [
        "print(\"Credit Number X_train dataset: \", X_train.shape)\n",
        "print(\"Credit Number y_train dataset: \", y_train.shape)\n",
        "print(\"Credit Number X_test dataset: \", X_test.shape)\n",
        "print(\"Credit Number y_test dataset: \", y_test.shape)\n",
        "\n",
        "print(\"\\nBefore OverSampling, counts of label '1': {}\".format(sum(y_train==1)))\n",
        "print(\"Before OverSampling, counts of label '0': {} \\n\".format(sum(y_train==0)))\n",
        "\n",
        "sm = SMOTE(random_state=11)\n",
        "X_train_s, y_train_s = sm.fit_resample(X_train, y_train.ravel())\n",
        "\n",
        "print('After OverSampling, the shape of train_x: {}'.format(X_train_s.shape))\n",
        "print('After OverSampling, the shape of train_y: {} \\n'.format(y_train_s.shape))\n",
        "\n",
        "print(\"After OverSampling, counts of label '1', %: {}\".format(sum(y_train_s==1)/len(y_train_s)*100.0,2))\n",
        "print(\"After OverSampling, counts of label '0', %: {} \\n\".format(sum(y_train_s==0)/len(y_train_s)*100.0,2))\n",
        "\n",
        "sns.countplot(x=y_train_s, data=data)"
      ],
      "metadata": {
        "colab": {
          "base_uri": "https://localhost:8080/",
          "height": 525
        },
        "id": "d-9nALk4_0nj",
        "outputId": "7c6e7a83-094f-4c96-a67f-cf8e6330a87d"
      },
      "execution_count": 21,
      "outputs": [
        {
          "output_type": "stream",
          "name": "stdout",
          "text": [
            "Credit Number X_train dataset:  (483, 38)\n",
            "Credit Number y_train dataset:  (483,)\n",
            "Credit Number X_test dataset:  (207, 38)\n",
            "Credit Number y_test dataset:  (207,)\n",
            "\n",
            "Before OverSampling, counts of label '1': 218\n",
            "Before OverSampling, counts of label '0': 265 \n",
            "\n",
            "After OverSampling, the shape of train_x: (530, 38)\n",
            "After OverSampling, the shape of train_y: (530,) \n",
            "\n",
            "After OverSampling, counts of label '1', %: 50.0\n",
            "After OverSampling, counts of label '0', %: 50.0 \n",
            "\n"
          ]
        },
        {
          "output_type": "execute_result",
          "data": {
            "text/plain": [
              "<matplotlib.axes._subplots.AxesSubplot at 0x7fa441275a10>"
            ]
          },
          "metadata": {},
          "execution_count": 21
        },
        {
          "output_type": "display_data",
          "data": {
            "text/plain": [
              "<Figure size 432x288 with 1 Axes>"
            ],
            "image/png": "[encoded data removed]"
          },
          "metadata": {
            "needs_background": "light"
          }
        }
      ]
    },
    {
      "cell_type": "code",
      "source": [
        "def smote_model_assess(model, name='Default'):\n",
        "  model.fit(X_train_s, y_train_s)\n",
        "  preds = model.predict(X_test)\n",
        "  print('                   ', name, '\\n',\n",
        "  classification_report(y_test, preds))"
      ],
      "metadata": {
        "id": "jIuPzGi__0ZZ"
      },
      "execution_count": 22,
      "outputs": []
    },
    {
      "cell_type": "code",
      "source": [
        "#KNN\n",
        "knn_s = KNeighborsClassifier(n_neighbors=26, weights='distance')\n",
        "smote_model_assess(knn_s, name='KNN')"
      ],
      "metadata": {
        "colab": {
          "base_uri": "https://localhost:8080/"
        },
        "id": "wXBFYgc3COdH",
        "outputId": "26499205-08b1-4e3e-c747-94392857087d"
      },
      "execution_count": 23,
      "outputs": [
        {
          "output_type": "stream",
          "name": "stdout",
          "text": [
            "                    KNN \n",
            "               precision    recall  f1-score   support\n",
            "\n",
            "           0       0.72      0.73      0.72       118\n",
            "           1       0.63      0.62      0.62        89\n",
            "\n",
            "    accuracy                           0.68       207\n",
            "   macro avg       0.67      0.67      0.67       207\n",
            "weighted avg       0.68      0.68      0.68       207\n",
            "\n"
          ]
        }
      ]
    },
    {
      "cell_type": "code",
      "source": [
        "#Support Vector Machines\n",
        "svm_s = SVC(C=100, gamma=0.0001, kernel='rbf', probability=True)\n",
        "smote_model_assess(svm_s, 'SVM')"
      ],
      "metadata": {
        "colab": {
          "base_uri": "https://localhost:8080/"
        },
        "id": "6lj_uAGGB5sU",
        "outputId": "3b0ba449-2134-4c59-be37-fdcdaa90c939"
      },
      "execution_count": 24,
      "outputs": [
        {
          "output_type": "stream",
          "name": "stdout",
          "text": [
            "                    SVM \n",
            "               precision    recall  f1-score   support\n",
            "\n",
            "           0       0.77      0.76      0.77       118\n",
            "           1       0.69      0.70      0.69        89\n",
            "\n",
            "    accuracy                           0.73       207\n",
            "   macro avg       0.73      0.73      0.73       207\n",
            "weighted avg       0.73      0.73      0.73       207\n",
            "\n"
          ]
        }
      ]
    },
    {
      "cell_type": "code",
      "source": [
        "#XGB\n",
        "xgb_s = XGBClassifier()\n",
        "smote_model_assess(xgb_s, 'XGBoost')"
      ],
      "metadata": {
        "colab": {
          "base_uri": "https://localhost:8080/"
        },
        "id": "RHsyYGs0_0W6",
        "outputId": "3af7fd02-4504-4a71-dab0-aafb70350513"
      },
      "execution_count": 25,
      "outputs": [
        {
          "output_type": "stream",
          "name": "stdout",
          "text": [
            "                    XGBoost \n",
            "               precision    recall  f1-score   support\n",
            "\n",
            "           0       0.86      0.86      0.86       118\n",
            "           1       0.82      0.81      0.81        89\n",
            "\n",
            "    accuracy                           0.84       207\n",
            "   macro avg       0.84      0.84      0.84       207\n",
            "weighted avg       0.84      0.84      0.84       207\n",
            "\n"
          ]
        }
      ]
    },
    {
      "cell_type": "code",
      "source": [
        "#Logistic Regression\n",
        "lg_s = LogisticRegression(C=1, penalty='l2', solver='lbfgs')\n",
        "smote_model_assess(lg_s, 'Logistic Regression')"
      ],
      "metadata": {
        "colab": {
          "base_uri": "https://localhost:8080/"
        },
        "id": "Q4SBNRInApnE",
        "outputId": "8d1a10c7-b485-4e79-e03f-d37d7473e54c"
      },
      "execution_count": 26,
      "outputs": [
        {
          "output_type": "stream",
          "name": "stdout",
          "text": [
            "                    Logistic Regression \n",
            "               precision    recall  f1-score   support\n",
            "\n",
            "           0       0.89      0.87      0.88       118\n",
            "           1       0.84      0.85      0.84        89\n",
            "\n",
            "    accuracy                           0.86       207\n",
            "   macro avg       0.86      0.86      0.86       207\n",
            "weighted avg       0.87      0.86      0.86       207\n",
            "\n"
          ]
        },
        {
          "output_type": "stream",
          "name": "stderr",
          "text": [
            "/usr/local/lib/python3.7/dist-packages/sklearn/linear_model/_logistic.py:818: ConvergenceWarning: lbfgs failed to converge (status=1):\n",
            "STOP: TOTAL NO. of ITERATIONS REACHED LIMIT.\n",
            "\n",
            "Increase the number of iterations (max_iter) or scale the data as shown in:\n",
            "    https://scikit-learn.org/stable/modules/preprocessing.html\n",
            "Please also refer to the documentation for alternative solver options:\n",
            "    https://scikit-learn.org/stable/modules/linear_model.html#logistic-regression\n",
            "  extra_warning_msg=_LOGISTIC_SOLVER_CONVERGENCE_MSG,\n"
          ]
        }
      ]
    },
    {
      "cell_type": "code",
      "source": [
        "# Random Forest\n",
        "rfc_model_s = rfc(random_state=11)\n",
        "smote_model_assess(rfc_model_s, 'Random Forest')"
      ],
      "metadata": {
        "colab": {
          "base_uri": "https://localhost:8080/"
        },
        "id": "d-j3hMvyApkp",
        "outputId": "383bbeb5-b5dd-4c9b-9190-84e1c932831e"
      },
      "execution_count": 27,
      "outputs": [
        {
          "output_type": "stream",
          "name": "stdout",
          "text": [
            "                    Random Forest \n",
            "               precision    recall  f1-score   support\n",
            "\n",
            "           0       0.87      0.90      0.88       118\n",
            "           1       0.86      0.82      0.84        89\n",
            "\n",
            "    accuracy                           0.86       207\n",
            "   macro avg       0.86      0.86      0.86       207\n",
            "weighted avg       0.86      0.86      0.86       207\n",
            "\n"
          ]
        }
      ]
    },
    {
      "cell_type": "code",
      "source": [
        "#ROC AUC\n",
        "fig = plt.figure(figsize=(14,10))\n",
        "plt.plot([0, 1], [0, 1],'r--')\n",
        "\n",
        "#KNN\n",
        "preds_proba_knn = knn_s.predict_proba(X_test)\n",
        "probsknn = preds_proba_knn[:, 1]\n",
        "fpr, tpr, thresh = roc_curve(y_test, probsknn)\n",
        "aucknn = roc_auc_score(y_test, probsknn)\n",
        "plt.plot(fpr, tpr, label=f'KNN, AUC = {str(round(aucknn,3))}')\n",
        "\n",
        "#Support Vector Machines\n",
        "preds_proba_svm = svm_s.predict_proba(X_test)\n",
        "probs_svm = preds_proba_svm[:, 1]\n",
        "fpr, tpr, thresh = roc_curve(y_test, probs_svm)\n",
        "auc_svm = roc_auc_score(y_test, probs_svm)\n",
        "plt.plot(fpr, tpr, label=f'Support Vector Machine, AUC = {str(round(auc_svm,3))}')\n",
        "\n",
        "#Logistic Regression\n",
        "preds_proba_lg = lg_s.predict_proba(X_test)\n",
        "probslg = preds_proba_lg[:, 1]\n",
        "fpr, tpr, thresh = roc_curve(y_test, probslg)\n",
        "auclg = roc_auc_score(y_test, probslg)\n",
        "plt.plot(fpr, tpr, label=f'Logistic Regression, AUC = {str(round(auclg,3))}')\n",
        "\n",
        "#XGBoost\n",
        "preds_proba_xgb = xgb_s.predict_proba(X_test)\n",
        "probsxgb = preds_proba_xgb[:, 1]\n",
        "fpr, tpr, thresh = roc_curve(y_test, probsxgb)\n",
        "aucxgb = roc_auc_score(y_test, probsxgb)\n",
        "plt.plot(fpr, tpr, label=f'XGBoost, AUC = {str(round(aucxgb,3))}')\n",
        "\n",
        "#Random Forest\n",
        "preds_proba_rfc = rfc_model_s.predict_proba(X_test)\n",
        "probs_rfc = preds_proba_rfc[:, 1]\n",
        "fpr, tpr, thresh = roc_curve(y_test, probs_rfc)\n",
        "auc_rfc = roc_auc_score(y_test, probs_rfc)\n",
        "plt.plot(fpr, tpr, label=f'Random Forest, AUC = {str(round(auc_rfc,3))}')\n",
        "\n",
        "plt.ylabel(\"True Positive Rate\")\n",
        "plt.xlabel(\"False Positive Rate\")\n",
        "plt.title(\"ROC Curve for Australian Dataset\")\n",
        "plt.rcParams['axes.titlesize'] = 18\n",
        "plt.legend()\n",
        "plt.show()"
      ],
      "metadata": {
        "colab": {
          "base_uri": "https://localhost:8080/",
          "height": 625
        },
        "id": "o5vW5ojqAph2",
        "outputId": "c77323c1-fb62-4716-f8d6-18543a82b0f0"
      },
      "execution_count": 28,
      "outputs": [
        {
          "output_type": "display_data",
          "data": {
            "text/plain": [
              "<Figure size 1008x720 with 1 Axes>"
            ],
            "image/png": "[encoded data removed]"
          },
          "metadata": {
            "needs_background": "light"
          }
        }
      ]
    },
    {
      "cell_type": "markdown",
      "source": [
        "####Acceptance rates XGBoost"
      ],
      "metadata": {
        "id": "qtjZ2TceyXU6"
      }
    },
    {
      "cell_type": "markdown",
      "source": [
        "Acceptance rate is a percentage of new loans that we accept with the goal of keeping the number of defaults in a portfolio below a certain number."
      ],
      "metadata": {
        "id": "XurmM9WoyaeC"
      }
    },
    {
      "cell_type": "code",
      "source": [
        "#XGBoost\n",
        "xgb_preds = xgb.predict(X_test)\n",
        "xgb_prob = xgb.predict_proba(X_test)[:, 1]\n",
        "\n",
        "xgb_df = pd.DataFrame({'true_loan_status': y_test,\n",
        "                       'prob_default': xgb_prob, 'pred_loan_status': xgb_preds})\n",
        "xgb_df.sample()"
      ],
      "metadata": {
        "colab": {
          "base_uri": "https://localhost:8080/",
          "height": 81
        },
        "id": "vopgcTcAxhyu",
        "outputId": "57882496-7430-453b-f718-b77ba8cdce90"
      },
      "execution_count": 29,
      "outputs": [
        {
          "output_type": "execute_result",
          "data": {
            "text/plain": [
              "     true_loan_status  prob_default  pred_loan_status\n",
              "453                 1      0.413296                 0"
            ],
            "text/html": [
              "\n",
              "  <div id=\"df-7bf44d5b-4521-49ff-b49e-2968b67b4581\">\n",
              "    <div class=\"colab-df-container\">\n",
              "      <div>\n",
              "<style scoped>\n",
              "    .dataframe tbody tr th:only-of-type {\n",
              "        vertical-align: middle;\n",
              "    }\n",
              "\n",
              "    .dataframe tbody tr th {\n",
              "        vertical-align: top;\n",
              "    }\n",
              "\n",
              "    .dataframe thead th {\n",
              "        text-align: right;\n",
              "    }\n",
              "</style>\n",
              "<table border=\"1\" class=\"dataframe\">\n",
              "  <thead>\n",
              "    <tr style=\"text-align: right;\">\n",
              "      <th></th>\n",
              "      <th>true_loan_status</th>\n",
              "      <th>prob_default</th>\n",
              "      <th>pred_loan_status</th>\n",
              "    </tr>\n",
              "  </thead>\n",
              "  <tbody>\n",
              "    <tr>\n",
              "      <th>453</th>\n",
              "      <td>1</td>\n",
              "      <td>0.413296</td>\n",
              "      <td>0</td>\n",
              "    </tr>\n",
              "  </tbody>\n",
              "</table>\n",
              "</div>\n",
              "      <button class=\"colab-df-convert\" onclick=\"convertToInteractive('df-7bf44d5b-4521-49ff-b49e-2968b67b4581')\"\n",
              "              title=\"Convert this dataframe to an interactive table.\"\n",
              "              style=\"display:none;\">\n",
              "        \n",
              "  <svg xmlns=\"http://www.w3.org/2000/svg\" height=\"24px\"viewBox=\"0 0 24 24\"\n",
              "       width=\"24px\">\n",
              "    <path d=\"M0 0h24v24H0V0z\" fill=\"none\"/>\n",
              "    <path d=\"M18.56 5.44l.94 2.06.94-2.06 2.06-.94-2.06-.94-.94-2.06-.94 2.06-2.06.94zm-11 1L8.5 8.5l.94-2.06 2.06-.94-2.06-.94L8.5 2.5l-.94 2.06-2.06.94zm10 10l.94 2.06.94-2.06 2.06-.94-2.06-.94-.94-2.06-.94 2.06-2.06.94z\"/><path d=\"M17.41 7.96l-1.37-1.37c-.4-.4-.92-.59-1.43-.59-.52 0-1.04.2-1.43.59L10.3 9.45l-7.72 7.72c-.78.78-.78 2.05 0 2.83L4 21.41c.39.39.9.59 1.41.59.51 0 1.02-.2 1.41-.59l7.78-7.78 2.81-2.81c.8-.78.8-2.07 0-2.86zM5.41 20L4 18.59l7.72-7.72 1.47 1.35L5.41 20z\"/>\n",
              "  </svg>\n",
              "      </button>\n",
              "      \n",
              "  <style>\n",
              "    .colab-df-container {\n",
              "      display:flex;\n",
              "      flex-wrap:wrap;\n",
              "      gap: 12px;\n",
              "    }\n",
              "\n",
              "    .colab-df-convert {\n",
              "      background-color: #E8F0FE;\n",
              "      border: none;\n",
              "      border-radius: 50%;\n",
              "      cursor: pointer;\n",
              "      display: none;\n",
              "      fill: #1967D2;\n",
              "      height: 32px;\n",
              "      padding: 0 0 0 0;\n",
              "      width: 32px;\n",
              "    }\n",
              "\n",
              "    .colab-df-convert:hover {\n",
              "      background-color: #E2EBFA;\n",
              "      box-shadow: 0px 1px 2px rgba(60, 64, 67, 0.3), 0px 1px 3px 1px rgba(60, 64, 67, 0.15);\n",
              "      fill: #174EA6;\n",
              "    }\n",
              "\n",
              "    [theme=dark] .colab-df-convert {\n",
              "      background-color: #3B4455;\n",
              "      fill: #D2E3FC;\n",
              "    }\n",
              "\n",
              "    [theme=dark] .colab-df-convert:hover {\n",
              "      background-color: #434B5C;\n",
              "      box-shadow: 0px 1px 3px 1px rgba(0, 0, 0, 0.15);\n",
              "      filter: drop-shadow(0px 1px 2px rgba(0, 0, 0, 0.3));\n",
              "      fill: #FFFFFF;\n",
              "    }\n",
              "  </style>\n",
              "\n",
              "      <script>\n",
              "        const buttonEl =\n",
              "          document.querySelector('#df-7bf44d5b-4521-49ff-b49e-2968b67b4581 button.colab-df-convert');\n",
              "        buttonEl.style.display =\n",
              "          google.colab.kernel.accessAllowed ? 'block' : 'none';\n",
              "\n",
              "        async function convertToInteractive(key) {\n",
              "          const element = document.querySelector('#df-7bf44d5b-4521-49ff-b49e-2968b67b4581');\n",
              "          const dataTable =\n",
              "            await google.colab.kernel.invokeFunction('convertToInteractive',\n",
              "                                                     [key], {});\n",
              "          if (!dataTable) return;\n",
              "\n",
              "          const docLinkHtml = 'Like what you see? Visit the ' +\n",
              "            '<a target=\"_blank\" href=https://colab.research.google.com/notebooks/data_table.ipynb>data table notebook</a>'\n",
              "            + ' to learn more about interactive tables.';\n",
              "          element.innerHTML = '';\n",
              "          dataTable['output_type'] = 'display_data';\n",
              "          await google.colab.output.renderOutput(dataTable, element);\n",
              "          const docLink = document.createElement('div');\n",
              "          docLink.innerHTML = docLinkHtml;\n",
              "          element.appendChild(docLink);\n",
              "        }\n",
              "      </script>\n",
              "    </div>\n",
              "  </div>\n",
              "  "
            ]
          },
          "metadata": {},
          "execution_count": 29
        }
      ]
    },
    {
      "cell_type": "markdown",
      "source": [
        "Credit strategy and minimum expected loss"
      ],
      "metadata": {
        "id": "jRiBfm_syl4U"
      }
    },
    {
      "cell_type": "code",
      "source": [
        "# set all acceptance rates to test\n",
        "accept_rates = [1.0, 0.95, 0.9, 0.85, 0.8, 0.75, 0.7, 0.65, 0.6, 0.55,\n",
        "    0.5, 0.45, 0.4, 0.35, 0.3, 0.25, 0.2, 0.15, 0.1, 0.05]\n",
        "# create lists to store threshols and bad rates and number of accepted loand\n",
        "thresholds = []\n",
        "bad_rates = []\n",
        "num_accepted_loans = []\n",
        "\n",
        "# new dataframe from xgb_df\n",
        "test_pred_df = xgb_df.copy()"
      ],
      "metadata": {
        "id": "W8Alj67Wyj-f"
      },
      "execution_count": 30,
      "outputs": []
    },
    {
      "cell_type": "code",
      "source": [
        "def strategy_table(accept_rates):\n",
        "  for rate in accept_rates:\n",
        "    # calculate threshold\n",
        "    threshold = np.quantile(test_pred_df['prob_default'], rate).round(3)\n",
        "    # store threshold value in list\n",
        "    thresholds.append(threshold)\n",
        "    # apply thresholds to reassign loan status\n",
        "    test_pred_df['pred_loan_status'] = test_pred_df['prob_default'].apply(\n",
        "        lambda x: 1 if x > threshold else 0)\n",
        "    # create accepted loans set of predicted non-default\n",
        "    accepted_loans = test_pred_df[test_pred_df['pred_loan_status'] == 0]\n",
        "    # claculate and store bad rate\n",
        "    bad_rates.append(np.sum((accepted_loans['true_loan_status'])\n",
        "              / accepted_loans['true_loan_status'].count()).round(3))\n",
        "    # add the number of accepted loans for each acceptance rate\n",
        "    num_accepted_loans.append(len(test_pred_df[test_pred_df['prob_default'] <\n",
        "                                          np.quantile(test_pred_df['prob_default'],\n",
        "                                                      rate)]))"
      ],
      "metadata": {
        "id": "H10O9rvZyj69"
      },
      "execution_count": 31,
      "outputs": []
    },
    {
      "cell_type": "code",
      "source": [
        "strategy_table(accept_rates)\n",
        "\n",
        "# create strategy dataframe\n",
        "strategy_xgb_df = pd.DataFrame(zip(accept_rates, thresholds, bad_rates,\n",
        "                               num_accepted_loans),\n",
        "                           columns=['Acceptance Rate', 'Threshold',\n",
        "                                    'Bad Rate', 'Num Accepted Loans'])\n",
        "strategy_xgb_df.head()"
      ],
      "metadata": {
        "colab": {
          "base_uri": "https://localhost:8080/",
          "height": 206
        },
        "id": "4xYggw73yj5N",
        "outputId": "c4d6c7e5-32f2-4d34-ceaf-3528771daf39"
      },
      "execution_count": 32,
      "outputs": [
        {
          "output_type": "execute_result",
          "data": {
            "text/plain": [
              "   Acceptance Rate  Threshold  Bad Rate  Num Accepted Loans\n",
              "0             1.00      0.980     0.427                 206\n",
              "1             0.95      0.961     0.404                 196\n",
              "2             0.90      0.950     0.362                 186\n",
              "3             0.85      0.928     0.335                 176\n",
              "4             0.80      0.874     0.291                 165"
            ],
            "text/html": [
              "\n",
              "  <div id=\"df-129f2104-c15b-415d-877d-feee4c7e755d\">\n",
              "    <div class=\"colab-df-container\">\n",
              "      <div>\n",
              "<style scoped>\n",
              "    .dataframe tbody tr th:only-of-type {\n",
              "        vertical-align: middle;\n",
              "    }\n",
              "\n",
              "    .dataframe tbody tr th {\n",
              "        vertical-align: top;\n",
              "    }\n",
              "\n",
              "    .dataframe thead th {\n",
              "        text-align: right;\n",
              "    }\n",
              "</style>\n",
              "<table border=\"1\" class=\"dataframe\">\n",
              "  <thead>\n",
              "    <tr style=\"text-align: right;\">\n",
              "      <th></th>\n",
              "      <th>Acceptance Rate</th>\n",
              "      <th>Threshold</th>\n",
              "      <th>Bad Rate</th>\n",
              "      <th>Num Accepted Loans</th>\n",
              "    </tr>\n",
              "  </thead>\n",
              "  <tbody>\n",
              "    <tr>\n",
              "      <th>0</th>\n",
              "      <td>1.00</td>\n",
              "      <td>0.980</td>\n",
              "      <td>0.427</td>\n",
              "      <td>206</td>\n",
              "    </tr>\n",
              "    <tr>\n",
              "      <th>1</th>\n",
              "      <td>0.95</td>\n",
              "      <td>0.961</td>\n",
              "      <td>0.404</td>\n",
              "      <td>196</td>\n",
              "    </tr>\n",
              "    <tr>\n",
              "      <th>2</th>\n",
              "      <td>0.90</td>\n",
              "      <td>0.950</td>\n",
              "      <td>0.362</td>\n",
              "      <td>186</td>\n",
              "    </tr>\n",
              "    <tr>\n",
              "      <th>3</th>\n",
              "      <td>0.85</td>\n",
              "      <td>0.928</td>\n",
              "      <td>0.335</td>\n",
              "      <td>176</td>\n",
              "    </tr>\n",
              "    <tr>\n",
              "      <th>4</th>\n",
              "      <td>0.80</td>\n",
              "      <td>0.874</td>\n",
              "      <td>0.291</td>\n",
              "      <td>165</td>\n",
              "    </tr>\n",
              "  </tbody>\n",
              "</table>\n",
              "</div>\n",
              "      <button class=\"colab-df-convert\" onclick=\"convertToInteractive('df-129f2104-c15b-415d-877d-feee4c7e755d')\"\n",
              "              title=\"Convert this dataframe to an interactive table.\"\n",
              "              style=\"display:none;\">\n",
              "        \n",
              "  <svg xmlns=\"http://www.w3.org/2000/svg\" height=\"24px\"viewBox=\"0 0 24 24\"\n",
              "       width=\"24px\">\n",
              "    <path d=\"M0 0h24v24H0V0z\" fill=\"none\"/>\n",
              "    <path d=\"M18.56 5.44l.94 2.06.94-2.06 2.06-.94-2.06-.94-.94-2.06-.94 2.06-2.06.94zm-11 1L8.5 8.5l.94-2.06 2.06-.94-2.06-.94L8.5 2.5l-.94 2.06-2.06.94zm10 10l.94 2.06.94-2.06 2.06-.94-2.06-.94-.94-2.06-.94 2.06-2.06.94z\"/><path d=\"M17.41 7.96l-1.37-1.37c-.4-.4-.92-.59-1.43-.59-.52 0-1.04.2-1.43.59L10.3 9.45l-7.72 7.72c-.78.78-.78 2.05 0 2.83L4 21.41c.39.39.9.59 1.41.59.51 0 1.02-.2 1.41-.59l7.78-7.78 2.81-2.81c.8-.78.8-2.07 0-2.86zM5.41 20L4 18.59l7.72-7.72 1.47 1.35L5.41 20z\"/>\n",
              "  </svg>\n",
              "      </button>\n",
              "      \n",
              "  <style>\n",
              "    .colab-df-container {\n",
              "      display:flex;\n",
              "      flex-wrap:wrap;\n",
              "      gap: 12px;\n",
              "    }\n",
              "\n",
              "    .colab-df-convert {\n",
              "      background-color: #E8F0FE;\n",
              "      border: none;\n",
              "      border-radius: 50%;\n",
              "      cursor: pointer;\n",
              "      display: none;\n",
              "      fill: #1967D2;\n",
              "      height: 32px;\n",
              "      padding: 0 0 0 0;\n",
              "      width: 32px;\n",
              "    }\n",
              "\n",
              "    .colab-df-convert:hover {\n",
              "      background-color: #E2EBFA;\n",
              "      box-shadow: 0px 1px 2px rgba(60, 64, 67, 0.3), 0px 1px 3px 1px rgba(60, 64, 67, 0.15);\n",
              "      fill: #174EA6;\n",
              "    }\n",
              "\n",
              "    [theme=dark] .colab-df-convert {\n",
              "      background-color: #3B4455;\n",
              "      fill: #D2E3FC;\n",
              "    }\n",
              "\n",
              "    [theme=dark] .colab-df-convert:hover {\n",
              "      background-color: #434B5C;\n",
              "      box-shadow: 0px 1px 3px 1px rgba(0, 0, 0, 0.15);\n",
              "      filter: drop-shadow(0px 1px 2px rgba(0, 0, 0, 0.3));\n",
              "      fill: #FFFFFF;\n",
              "    }\n",
              "  </style>\n",
              "\n",
              "      <script>\n",
              "        const buttonEl =\n",
              "          document.querySelector('#df-129f2104-c15b-415d-877d-feee4c7e755d button.colab-df-convert');\n",
              "        buttonEl.style.display =\n",
              "          google.colab.kernel.accessAllowed ? 'block' : 'none';\n",
              "\n",
              "        async function convertToInteractive(key) {\n",
              "          const element = document.querySelector('#df-129f2104-c15b-415d-877d-feee4c7e755d');\n",
              "          const dataTable =\n",
              "            await google.colab.kernel.invokeFunction('convertToInteractive',\n",
              "                                                     [key], {});\n",
              "          if (!dataTable) return;\n",
              "\n",
              "          const docLinkHtml = 'Like what you see? Visit the ' +\n",
              "            '<a target=\"_blank\" href=https://colab.research.google.com/notebooks/data_table.ipynb>data table notebook</a>'\n",
              "            + ' to learn more about interactive tables.';\n",
              "          element.innerHTML = '';\n",
              "          dataTable['output_type'] = 'display_data';\n",
              "          await google.colab.output.renderOutput(dataTable, element);\n",
              "          const docLink = document.createElement('div');\n",
              "          docLink.innerHTML = docLinkHtml;\n",
              "          element.appendChild(docLink);\n",
              "        }\n",
              "      </script>\n",
              "    </div>\n",
              "  </div>\n",
              "  "
            ]
          },
          "metadata": {},
          "execution_count": 32
        }
      ]
    },
    {
      "cell_type": "code",
      "source": [
        "# Plot the strategy curve\n",
        "fig = plt.figure(figsize=(10,5))\n",
        "\n",
        "plt.plot(strategy_xgb_df['Acceptance Rate'], strategy_xgb_df['Bad Rate'])\n",
        "plt.xlabel('Acceptance Rate')\n",
        "plt.ylabel('Bad Rate')\n",
        "plt.title('Acceptance and Bad Rates')\n",
        "plt.axes().yaxis.grid()\n",
        "plt.axes().xaxis.grid()\n",
        "plt.show()"
      ],
      "metadata": {
        "colab": {
          "base_uri": "https://localhost:8080/",
          "height": 443
        },
        "id": "eTkrtoNGyj2e",
        "outputId": "e2ed1a9d-c202-4e5f-82b8-217f759cbdcc"
      },
      "execution_count": 33,
      "outputs": [
        {
          "output_type": "stream",
          "name": "stderr",
          "text": [
            "/usr/local/lib/python3.7/dist-packages/ipykernel_launcher.py:8: MatplotlibDeprecationWarning: Adding an axes using the same arguments as a previous axes currently reuses the earlier instance.  In a future version, a new instance will always be created and returned.  Meanwhile, this warning can be suppressed, and the future behavior ensured, by passing a unique label to each axes instance.\n",
            "  \n",
            "/usr/local/lib/python3.7/dist-packages/ipykernel_launcher.py:9: MatplotlibDeprecationWarning: Adding an axes using the same arguments as a previous axes currently reuses the earlier instance.  In a future version, a new instance will always be created and returned.  Meanwhile, this warning can be suppressed, and the future behavior ensured, by passing a unique label to each axes instance.\n",
            "  if __name__ == '__main__':\n"
          ]
        },
        {
          "output_type": "display_data",
          "data": {
            "text/plain": [
              "<Figure size 720x360 with 1 Axes>"
            ],
            "image/png": "[encoded data removed]"
          },
          "metadata": {
            "needs_background": "light"
          }
        }
      ]
    },
    {
      "cell_type": "markdown",
      "source": [
        "Num Accepted Loans: The number of accepted loans based on the threshold\n",
        "\n",
        "Avg Loan Amnt: The average loan amount of the entire test set\n",
        "\n",
        "Estimated value: The estimated net value of non-defaults minus defaults"
      ],
      "metadata": {
        "id": "IuixqC3uy-W9"
      }
    },
    {
      "cell_type": "code",
      "source": [
        "# adding average loan amount from test data set\n",
        "strategy_xgb_df['Avg Loan Amount'] = np.mean(X_test['N2'])*100\n",
        "\n",
        "# adding average value of accepted loan non-default minue average\n",
        "# value of accepted defaults\n",
        "strategy_xgb_df['Estimated Value'] = ((strategy_xgb_df['Num Accepted Loans'] *\n",
        "                                   (1 - strategy_xgb_df['Bad Rate'])) *\n",
        "                                  strategy_xgb_df['Avg Loan Amount']) - (strategy_xgb_df['Num Accepted Loans'] *\n",
        "                                   strategy_xgb_df['Bad Rate'] *\n",
        "                                   strategy_xgb_df['Avg Loan Amount'])\n",
        "                                  \n",
        "strategy_xgb_df.head()"
      ],
      "metadata": {
        "colab": {
          "base_uri": "https://localhost:8080/",
          "height": 206
        },
        "id": "C27gyNRKyj0E",
        "outputId": "364d8a72-510f-40df-f072-f24c7402204b"
      },
      "execution_count": 34,
      "outputs": [
        {
          "output_type": "execute_result",
          "data": {
            "text/plain": [
              "   Acceptance Rate  Threshold  Bad Rate  Num Accepted Loans  Avg Loan Amount  \\\n",
              "0             1.00      0.980     0.427                 206      3125.879227   \n",
              "1             0.95      0.961     0.404                 196      3125.879227   \n",
              "2             0.90      0.950     0.362                 186      3125.879227   \n",
              "3             0.85      0.928     0.335                 176      3125.879227   \n",
              "4             0.80      0.874     0.291                 165      3125.879227   \n",
              "\n",
              "   Estimated Value  \n",
              "0     94013.943633  \n",
              "1    117633.087072  \n",
              "2    160470.136000  \n",
              "3    181551.065507  \n",
              "4    215591.890290  "
            ],
            "text/html": [
              "\n",
              "  <div id=\"df-644290d7-9613-4af9-9471-32aae8a470b1\">\n",
              "    <div class=\"colab-df-container\">\n",
              "      <div>\n",
              "<style scoped>\n",
              "    .dataframe tbody tr th:only-of-type {\n",
              "        vertical-align: middle;\n",
              "    }\n",
              "\n",
              "    .dataframe tbody tr th {\n",
              "        vertical-align: top;\n",
              "    }\n",
              "\n",
              "    .dataframe thead th {\n",
              "        text-align: right;\n",
              "    }\n",
              "</style>\n",
              "<table border=\"1\" class=\"dataframe\">\n",
              "  <thead>\n",
              "    <tr style=\"text-align: right;\">\n",
              "      <th></th>\n",
              "      <th>Acceptance Rate</th>\n",
              "      <th>Threshold</th>\n",
              "      <th>Bad Rate</th>\n",
              "      <th>Num Accepted Loans</th>\n",
              "      <th>Avg Loan Amount</th>\n",
              "      <th>Estimated Value</th>\n",
              "    </tr>\n",
              "  </thead>\n",
              "  <tbody>\n",
              "    <tr>\n",
              "      <th>0</th>\n",
              "      <td>1.00</td>\n",
              "      <td>0.980</td>\n",
              "      <td>0.427</td>\n",
              "      <td>206</td>\n",
              "      <td>3125.879227</td>\n",
              "      <td>94013.943633</td>\n",
              "    </tr>\n",
              "    <tr>\n",
              "      <th>1</th>\n",
              "      <td>0.95</td>\n",
              "      <td>0.961</td>\n",
              "      <td>0.404</td>\n",
              "      <td>196</td>\n",
              "      <td>3125.879227</td>\n",
              "      <td>117633.087072</td>\n",
              "    </tr>\n",
              "    <tr>\n",
              "      <th>2</th>\n",
              "      <td>0.90</td>\n",
              "      <td>0.950</td>\n",
              "      <td>0.362</td>\n",
              "      <td>186</td>\n",
              "      <td>3125.879227</td>\n",
              "      <td>160470.136000</td>\n",
              "    </tr>\n",
              "    <tr>\n",
              "      <th>3</th>\n",
              "      <td>0.85</td>\n",
              "      <td>0.928</td>\n",
              "      <td>0.335</td>\n",
              "      <td>176</td>\n",
              "      <td>3125.879227</td>\n",
              "      <td>181551.065507</td>\n",
              "    </tr>\n",
              "    <tr>\n",
              "      <th>4</th>\n",
              "      <td>0.80</td>\n",
              "      <td>0.874</td>\n",
              "      <td>0.291</td>\n",
              "      <td>165</td>\n",
              "      <td>3125.879227</td>\n",
              "      <td>215591.890290</td>\n",
              "    </tr>\n",
              "  </tbody>\n",
              "</table>\n",
              "</div>\n",
              "      <button class=\"colab-df-convert\" onclick=\"convertToInteractive('df-644290d7-9613-4af9-9471-32aae8a470b1')\"\n",
              "              title=\"Convert this dataframe to an interactive table.\"\n",
              "              style=\"display:none;\">\n",
              "        \n",
              "  <svg xmlns=\"http://www.w3.org/2000/svg\" height=\"24px\"viewBox=\"0 0 24 24\"\n",
              "       width=\"24px\">\n",
              "    <path d=\"M0 0h24v24H0V0z\" fill=\"none\"/>\n",
              "    <path d=\"M18.56 5.44l.94 2.06.94-2.06 2.06-.94-2.06-.94-.94-2.06-.94 2.06-2.06.94zm-11 1L8.5 8.5l.94-2.06 2.06-.94-2.06-.94L8.5 2.5l-.94 2.06-2.06.94zm10 10l.94 2.06.94-2.06 2.06-.94-2.06-.94-.94-2.06-.94 2.06-2.06.94z\"/><path d=\"M17.41 7.96l-1.37-1.37c-.4-.4-.92-.59-1.43-.59-.52 0-1.04.2-1.43.59L10.3 9.45l-7.72 7.72c-.78.78-.78 2.05 0 2.83L4 21.41c.39.39.9.59 1.41.59.51 0 1.02-.2 1.41-.59l7.78-7.78 2.81-2.81c.8-.78.8-2.07 0-2.86zM5.41 20L4 18.59l7.72-7.72 1.47 1.35L5.41 20z\"/>\n",
              "  </svg>\n",
              "      </button>\n",
              "      \n",
              "  <style>\n",
              "    .colab-df-container {\n",
              "      display:flex;\n",
              "      flex-wrap:wrap;\n",
              "      gap: 12px;\n",
              "    }\n",
              "\n",
              "    .colab-df-convert {\n",
              "      background-color: #E8F0FE;\n",
              "      border: none;\n",
              "      border-radius: 50%;\n",
              "      cursor: pointer;\n",
              "      display: none;\n",
              "      fill: #1967D2;\n",
              "      height: 32px;\n",
              "      padding: 0 0 0 0;\n",
              "      width: 32px;\n",
              "    }\n",
              "\n",
              "    .colab-df-convert:hover {\n",
              "      background-color: #E2EBFA;\n",
              "      box-shadow: 0px 1px 2px rgba(60, 64, 67, 0.3), 0px 1px 3px 1px rgba(60, 64, 67, 0.15);\n",
              "      fill: #174EA6;\n",
              "    }\n",
              "\n",
              "    [theme=dark] .colab-df-convert {\n",
              "      background-color: #3B4455;\n",
              "      fill: #D2E3FC;\n",
              "    }\n",
              "\n",
              "    [theme=dark] .colab-df-convert:hover {\n",
              "      background-color: #434B5C;\n",
              "      box-shadow: 0px 1px 3px 1px rgba(0, 0, 0, 0.15);\n",
              "      filter: drop-shadow(0px 1px 2px rgba(0, 0, 0, 0.3));\n",
              "      fill: #FFFFFF;\n",
              "    }\n",
              "  </style>\n",
              "\n",
              "      <script>\n",
              "        const buttonEl =\n",
              "          document.querySelector('#df-644290d7-9613-4af9-9471-32aae8a470b1 button.colab-df-convert');\n",
              "        buttonEl.style.display =\n",
              "          google.colab.kernel.accessAllowed ? 'block' : 'none';\n",
              "\n",
              "        async function convertToInteractive(key) {\n",
              "          const element = document.querySelector('#df-644290d7-9613-4af9-9471-32aae8a470b1');\n",
              "          const dataTable =\n",
              "            await google.colab.kernel.invokeFunction('convertToInteractive',\n",
              "                                                     [key], {});\n",
              "          if (!dataTable) return;\n",
              "\n",
              "          const docLinkHtml = 'Like what you see? Visit the ' +\n",
              "            '<a target=\"_blank\" href=https://colab.research.google.com/notebooks/data_table.ipynb>data table notebook</a>'\n",
              "            + ' to learn more about interactive tables.';\n",
              "          element.innerHTML = '';\n",
              "          dataTable['output_type'] = 'display_data';\n",
              "          await google.colab.output.renderOutput(dataTable, element);\n",
              "          const docLink = document.createElement('div');\n",
              "          docLink.innerHTML = docLinkHtml;\n",
              "          element.appendChild(docLink);\n",
              "        }\n",
              "      </script>\n",
              "    </div>\n",
              "  </div>\n",
              "  "
            ]
          },
          "metadata": {},
          "execution_count": 34
        }
      ]
    },
    {
      "cell_type": "code",
      "source": [
        "# Create a line plot of estimated value\n",
        "fig = plt.figure(figsize=(10,5))\n",
        "plt.plot(strategy_xgb_df['Acceptance Rate'],strategy_xgb_df['Estimated Value'])\n",
        "plt.title('Estimated Value by Acceptance Rate')\n",
        "plt.xlabel('Acceptance Rate')\n",
        "plt.ylabel('Estimated Value')\n",
        "plt.axes().yaxis.grid()\n",
        "plt.show()"
      ],
      "metadata": {
        "colab": {
          "base_uri": "https://localhost:8080/",
          "height": 409
        },
        "id": "PkSeyyasyjyV",
        "outputId": "3f33f992-575c-4b70-8b2a-718c54b7258d"
      },
      "execution_count": 35,
      "outputs": [
        {
          "output_type": "stream",
          "name": "stderr",
          "text": [
            "/usr/local/lib/python3.7/dist-packages/ipykernel_launcher.py:7: MatplotlibDeprecationWarning: Adding an axes using the same arguments as a previous axes currently reuses the earlier instance.  In a future version, a new instance will always be created and returned.  Meanwhile, this warning can be suppressed, and the future behavior ensured, by passing a unique label to each axes instance.\n",
            "  import sys\n"
          ]
        },
        {
          "output_type": "display_data",
          "data": {
            "text/plain": [
              "<Figure size 720x360 with 1 Axes>"
            ],
            "image/png": "[encoded data removed]"
          },
          "metadata": {
            "needs_background": "light"
          }
        }
      ]
    },
    {
      "cell_type": "code",
      "source": [
        "# Print the row with the max estimated value\n",
        "print(strategy_xgb_df.loc[strategy_xgb_df['Estimated Value'] == np.max(strategy_xgb_df['Estimated Value'])])"
      ],
      "metadata": {
        "colab": {
          "base_uri": "https://localhost:8080/"
        },
        "id": "q-G0rsSQ0aic",
        "outputId": "b568854b-3885-4b5a-acf3-6acce2525ad8"
      },
      "execution_count": 36,
      "outputs": [
        {
          "output_type": "stream",
          "name": "stdout",
          "text": [
            "   Acceptance Rate  Threshold  Bad Rate  Num Accepted Loans  Avg Loan Amount  \\\n",
            "7             0.65       0.68     0.157                 134      3125.879227   \n",
            "\n",
            "   Estimated Value  \n",
            "7    287343.322068  \n"
          ]
        }
      ]
    },
    {
      "cell_type": "markdown",
      "source": [
        "Based on the maximum estimated value, acceptance rate of 0.65 and threshold of 0.68 is the best."
      ],
      "metadata": {
        "id": "558GxUMT1prR"
      }
    },
    {
      "cell_type": "code",
      "source": [
        "preds_df = pd.DataFrame({'prob_default': xgb_prob})\n",
        "xgb_preds_loan_status = preds_df['prob_default'].apply(\n",
        "    lambda x: 1 if x > 0.68 else 0)\n",
        "\n",
        "print('                   ', 'XGBoost', '\\n',\n",
        "classification_report(y_test, xgb_preds_loan_status))"
      ],
      "metadata": {
        "colab": {
          "base_uri": "https://localhost:8080/"
        },
        "id": "f4dZebBU0adJ",
        "outputId": "e9dbab5d-a6be-47af-ba14-dd21695798e0"
      },
      "execution_count": 37,
      "outputs": [
        {
          "output_type": "stream",
          "name": "stdout",
          "text": [
            "                    XGBoost \n",
            "               precision    recall  f1-score   support\n",
            "\n",
            "           0       0.84      0.96      0.90       118\n",
            "           1       0.93      0.76      0.84        89\n",
            "\n",
            "    accuracy                           0.87       207\n",
            "   macro avg       0.89      0.86      0.87       207\n",
            "weighted avg       0.88      0.87      0.87       207\n",
            "\n"
          ]
        }
      ]
    },
    {
      "cell_type": "code",
      "source": [
        "cnf_matrix = confusion_matrix(y_test, xgb_preds_loan_status)\n",
        "sns.heatmap(pd.DataFrame(cnf_matrix), annot=True, cmap='Blues', fmt='g')\n",
        "plt.title('XGBoost')\n",
        "plt.ylabel('Actual Label')\n",
        "plt.xlabel('Predicted Label')"
      ],
      "metadata": {
        "colab": {
          "base_uri": "https://localhost:8080/",
          "height": 316
        },
        "id": "r15bmvbDJSdB",
        "outputId": "5d3ae81b-047b-4db3-ce81-d058cd801d9e"
      },
      "execution_count": 38,
      "outputs": [
        {
          "output_type": "execute_result",
          "data": {
            "text/plain": [
              "Text(0.5, 15.0, 'Predicted Label')"
            ]
          },
          "metadata": {},
          "execution_count": 38
        },
        {
          "output_type": "display_data",
          "data": {
            "text/plain": [
              "<Figure size 432x288 with 2 Axes>"
            ],
            "image/png": "[encoded data removed]"
          },
          "metadata": {
            "needs_background": "light"
          }
        }
      ]
    },
    {
      "cell_type": "markdown",
      "source": [
        "####Acceptance rates Logistic Regression"
      ],
      "metadata": {
        "id": "IF8b0UBkke4B"
      }
    },
    {
      "cell_type": "markdown",
      "source": [
        "Acceptance rate is a percentage of new loans that we accept with the goal of keeping the number of defaults in a portfolio below a certain number."
      ],
      "metadata": {
        "id": "hpe9tX10ke4K"
      }
    },
    {
      "cell_type": "code",
      "source": [
        "#Logistic Regression\n",
        "lg_preds = lg.predict(X_test)\n",
        "lg_prob = lg.predict_proba(X_test)[:, 1]\n",
        "\n",
        "lg_df = pd.DataFrame({'true_loan_status': y_test,\n",
        "                       'prob_default': lg_prob, 'pred_loan_status': lg_preds})\n",
        "lg_df.sample()"
      ],
      "metadata": {
        "colab": {
          "base_uri": "https://localhost:8080/",
          "height": 81
        },
        "outputId": "a73d0ecb-313d-4e92-de71-a46b267b4461",
        "id": "cWg6JLmFke4K"
      },
      "execution_count": 39,
      "outputs": [
        {
          "output_type": "execute_result",
          "data": {
            "text/plain": [
              "     true_loan_status  prob_default  pred_loan_status\n",
              "327                 0      0.026039                 0"
            ],
            "text/html": [
              "\n",
              "  <div id=\"df-d97cced8-c711-4f4c-9fa8-666f91044013\">\n",
              "    <div class=\"colab-df-container\">\n",
              "      <div>\n",
              "<style scoped>\n",
              "    .dataframe tbody tr th:only-of-type {\n",
              "        vertical-align: middle;\n",
              "    }\n",
              "\n",
              "    .dataframe tbody tr th {\n",
              "        vertical-align: top;\n",
              "    }\n",
              "\n",
              "    .dataframe thead th {\n",
              "        text-align: right;\n",
              "    }\n",
              "</style>\n",
              "<table border=\"1\" class=\"dataframe\">\n",
              "  <thead>\n",
              "    <tr style=\"text-align: right;\">\n",
              "      <th></th>\n",
              "      <th>true_loan_status</th>\n",
              "      <th>prob_default</th>\n",
              "      <th>pred_loan_status</th>\n",
              "    </tr>\n",
              "  </thead>\n",
              "  <tbody>\n",
              "    <tr>\n",
              "      <th>327</th>\n",
              "      <td>0</td>\n",
              "      <td>0.026039</td>\n",
              "      <td>0</td>\n",
              "    </tr>\n",
              "  </tbody>\n",
              "</table>\n",
              "</div>\n",
              "      <button class=\"colab-df-convert\" onclick=\"convertToInteractive('df-d97cced8-c711-4f4c-9fa8-666f91044013')\"\n",
              "              title=\"Convert this dataframe to an interactive table.\"\n",
              "              style=\"display:none;\">\n",
              "        \n",
              "  <svg xmlns=\"http://www.w3.org/2000/svg\" height=\"24px\"viewBox=\"0 0 24 24\"\n",
              "       width=\"24px\">\n",
              "    <path d=\"M0 0h24v24H0V0z\" fill=\"none\"/>\n",
              "    <path d=\"M18.56 5.44l.94 2.06.94-2.06 2.06-.94-2.06-.94-.94-2.06-.94 2.06-2.06.94zm-11 1L8.5 8.5l.94-2.06 2.06-.94-2.06-.94L8.5 2.5l-.94 2.06-2.06.94zm10 10l.94 2.06.94-2.06 2.06-.94-2.06-.94-.94-2.06-.94 2.06-2.06.94z\"/><path d=\"M17.41 7.96l-1.37-1.37c-.4-.4-.92-.59-1.43-.59-.52 0-1.04.2-1.43.59L10.3 9.45l-7.72 7.72c-.78.78-.78 2.05 0 2.83L4 21.41c.39.39.9.59 1.41.59.51 0 1.02-.2 1.41-.59l7.78-7.78 2.81-2.81c.8-.78.8-2.07 0-2.86zM5.41 20L4 18.59l7.72-7.72 1.47 1.35L5.41 20z\"/>\n",
              "  </svg>\n",
              "      </button>\n",
              "      \n",
              "  <style>\n",
              "    .colab-df-container {\n",
              "      display:flex;\n",
              "      flex-wrap:wrap;\n",
              "      gap: 12px;\n",
              "    }\n",
              "\n",
              "    .colab-df-convert {\n",
              "      background-color: #E8F0FE;\n",
              "      border: none;\n",
              "      border-radius: 50%;\n",
              "      cursor: pointer;\n",
              "      display: none;\n",
              "      fill: #1967D2;\n",
              "      height: 32px;\n",
              "      padding: 0 0 0 0;\n",
              "      width: 32px;\n",
              "    }\n",
              "\n",
              "    .colab-df-convert:hover {\n",
              "      background-color: #E2EBFA;\n",
              "      box-shadow: 0px 1px 2px rgba(60, 64, 67, 0.3), 0px 1px 3px 1px rgba(60, 64, 67, 0.15);\n",
              "      fill: #174EA6;\n",
              "    }\n",
              "\n",
              "    [theme=dark] .colab-df-convert {\n",
              "      background-color: #3B4455;\n",
              "      fill: #D2E3FC;\n",
              "    }\n",
              "\n",
              "    [theme=dark] .colab-df-convert:hover {\n",
              "      background-color: #434B5C;\n",
              "      box-shadow: 0px 1px 3px 1px rgba(0, 0, 0, 0.15);\n",
              "      filter: drop-shadow(0px 1px 2px rgba(0, 0, 0, 0.3));\n",
              "      fill: #FFFFFF;\n",
              "    }\n",
              "  </style>\n",
              "\n",
              "      <script>\n",
              "        const buttonEl =\n",
              "          document.querySelector('#df-d97cced8-c711-4f4c-9fa8-666f91044013 button.colab-df-convert');\n",
              "        buttonEl.style.display =\n",
              "          google.colab.kernel.accessAllowed ? 'block' : 'none';\n",
              "\n",
              "        async function convertToInteractive(key) {\n",
              "          const element = document.querySelector('#df-d97cced8-c711-4f4c-9fa8-666f91044013');\n",
              "          const dataTable =\n",
              "            await google.colab.kernel.invokeFunction('convertToInteractive',\n",
              "                                                     [key], {});\n",
              "          if (!dataTable) return;\n",
              "\n",
              "          const docLinkHtml = 'Like what you see? Visit the ' +\n",
              "            '<a target=\"_blank\" href=https://colab.research.google.com/notebooks/data_table.ipynb>data table notebook</a>'\n",
              "            + ' to learn more about interactive tables.';\n",
              "          element.innerHTML = '';\n",
              "          dataTable['output_type'] = 'display_data';\n",
              "          await google.colab.output.renderOutput(dataTable, element);\n",
              "          const docLink = document.createElement('div');\n",
              "          docLink.innerHTML = docLinkHtml;\n",
              "          element.appendChild(docLink);\n",
              "        }\n",
              "      </script>\n",
              "    </div>\n",
              "  </div>\n",
              "  "
            ]
          },
          "metadata": {},
          "execution_count": 39
        }
      ]
    },
    {
      "cell_type": "markdown",
      "source": [
        "Credit strategy and minimum expected loss"
      ],
      "metadata": {
        "id": "9bRHpoa9ke4L"
      }
    },
    {
      "cell_type": "code",
      "source": [
        "# set all acceptance rates to test\n",
        "accept_rates = [1.0, 0.95, 0.9, 0.85, 0.8, 0.75, 0.7, 0.65, 0.6, 0.55,\n",
        "    0.5, 0.45, 0.4, 0.35, 0.3, 0.25, 0.2, 0.15, 0.1, 0.05]\n",
        "# create lists to store threshols and bad rates and number of accepted loand\n",
        "thresholds = []\n",
        "bad_rates = []\n",
        "num_accepted_loans = []"
      ],
      "metadata": {
        "id": "FNB4SSfeke4M"
      },
      "execution_count": 40,
      "outputs": []
    },
    {
      "cell_type": "code",
      "source": [
        "def strategy_table(accept_rates):\n",
        "  for rate in accept_rates:\n",
        "    # calculate threshold\n",
        "    threshold = np.quantile(lg_df['prob_default'], rate).round(3)\n",
        "    # store threshold value in list\n",
        "    thresholds.append(threshold)\n",
        "    # apply thresholds to reassign loan status\n",
        "    lg_df['pred_loan_status'] = lg_df['prob_default'].apply(\n",
        "        lambda x: 1 if x > threshold else 0)\n",
        "    # create accepted loans set of predicted non-default\n",
        "    accepted_loans = lg_df[lg_df['pred_loan_status'] == 0]\n",
        "    # claculate and store bad rate\n",
        "    bad_rates.append(np.sum((accepted_loans['true_loan_status'])\n",
        "              / accepted_loans['true_loan_status'].count()).round(3))\n",
        "    # add the number of accepted loans for each acceptance rate\n",
        "    num_accepted_loans.append(len(lg_df[lg_df['prob_default'] <\n",
        "                                          np.quantile(lg_df['prob_default'],\n",
        "                                                      rate)]))"
      ],
      "metadata": {
        "id": "BYn0zFtNke4M"
      },
      "execution_count": 41,
      "outputs": []
    },
    {
      "cell_type": "code",
      "source": [
        "strategy_table(accept_rates)\n",
        "\n",
        "# create strategy dataframe\n",
        "strategy_lg_df = pd.DataFrame(zip(accept_rates, thresholds, bad_rates,\n",
        "                               num_accepted_loans),\n",
        "                           columns=['Acceptance Rate', 'Threshold',\n",
        "                                    'Bad Rate', 'Num Accepted Loans'])\n",
        "strategy_lg_df.head()"
      ],
      "metadata": {
        "colab": {
          "base_uri": "https://localhost:8080/",
          "height": 206
        },
        "outputId": "89b1b8d9-2284-4961-b0c4-533eaa6ddee5",
        "id": "9fT5UUojke4M"
      },
      "execution_count": 42,
      "outputs": [
        {
          "output_type": "execute_result",
          "data": {
            "text/plain": [
              "   Acceptance Rate  Threshold  Bad Rate  Num Accepted Loans\n",
              "0             1.00      1.000     0.430                 206\n",
              "1             0.95      0.985     0.398                 196\n",
              "2             0.90      0.946     0.366                 186\n",
              "3             0.85      0.914     0.330                 176\n",
              "4             0.80      0.889     0.295                 165"
            ],
            "text/html": [
              "\n",
              "  <div id=\"df-f8c5ec21-3493-4dcb-b04b-9e8c72b99896\">\n",
              "    <div class=\"colab-df-container\">\n",
              "      <div>\n",
              "<style scoped>\n",
              "    .dataframe tbody tr th:only-of-type {\n",
              "        vertical-align: middle;\n",
              "    }\n",
              "\n",
              "    .dataframe tbody tr th {\n",
              "        vertical-align: top;\n",
              "    }\n",
              "\n",
              "    .dataframe thead th {\n",
              "        text-align: right;\n",
              "    }\n",
              "</style>\n",
              "<table border=\"1\" class=\"dataframe\">\n",
              "  <thead>\n",
              "    <tr style=\"text-align: right;\">\n",
              "      <th></th>\n",
              "      <th>Acceptance Rate</th>\n",
              "      <th>Threshold</th>\n",
              "      <th>Bad Rate</th>\n",
              "      <th>Num Accepted Loans</th>\n",
              "    </tr>\n",
              "  </thead>\n",
              "  <tbody>\n",
              "    <tr>\n",
              "      <th>0</th>\n",
              "      <td>1.00</td>\n",
              "      <td>1.000</td>\n",
              "      <td>0.430</td>\n",
              "      <td>206</td>\n",
              "    </tr>\n",
              "    <tr>\n",
              "      <th>1</th>\n",
              "      <td>0.95</td>\n",
              "      <td>0.985</td>\n",
              "      <td>0.398</td>\n",
              "      <td>196</td>\n",
              "    </tr>\n",
              "    <tr>\n",
              "      <th>2</th>\n",
              "      <td>0.90</td>\n",
              "      <td>0.946</td>\n",
              "      <td>0.366</td>\n",
              "      <td>186</td>\n",
              "    </tr>\n",
              "    <tr>\n",
              "      <th>3</th>\n",
              "      <td>0.85</td>\n",
              "      <td>0.914</td>\n",
              "      <td>0.330</td>\n",
              "      <td>176</td>\n",
              "    </tr>\n",
              "    <tr>\n",
              "      <th>4</th>\n",
              "      <td>0.80</td>\n",
              "      <td>0.889</td>\n",
              "      <td>0.295</td>\n",
              "      <td>165</td>\n",
              "    </tr>\n",
              "  </tbody>\n",
              "</table>\n",
              "</div>\n",
              "      <button class=\"colab-df-convert\" onclick=\"convertToInteractive('df-f8c5ec21-3493-4dcb-b04b-9e8c72b99896')\"\n",
              "              title=\"Convert this dataframe to an interactive table.\"\n",
              "              style=\"display:none;\">\n",
              "        \n",
              "  <svg xmlns=\"http://www.w3.org/2000/svg\" height=\"24px\"viewBox=\"0 0 24 24\"\n",
              "       width=\"24px\">\n",
              "    <path d=\"M0 0h24v24H0V0z\" fill=\"none\"/>\n",
              "    <path d=\"M18.56 5.44l.94 2.06.94-2.06 2.06-.94-2.06-.94-.94-2.06-.94 2.06-2.06.94zm-11 1L8.5 8.5l.94-2.06 2.06-.94-2.06-.94L8.5 2.5l-.94 2.06-2.06.94zm10 10l.94 2.06.94-2.06 2.06-.94-2.06-.94-.94-2.06-.94 2.06-2.06.94z\"/><path d=\"M17.41 7.96l-1.37-1.37c-.4-.4-.92-.59-1.43-.59-.52 0-1.04.2-1.43.59L10.3 9.45l-7.72 7.72c-.78.78-.78 2.05 0 2.83L4 21.41c.39.39.9.59 1.41.59.51 0 1.02-.2 1.41-.59l7.78-7.78 2.81-2.81c.8-.78.8-2.07 0-2.86zM5.41 20L4 18.59l7.72-7.72 1.47 1.35L5.41 20z\"/>\n",
              "  </svg>\n",
              "      </button>\n",
              "      \n",
              "  <style>\n",
              "    .colab-df-container {\n",
              "      display:flex;\n",
              "      flex-wrap:wrap;\n",
              "      gap: 12px;\n",
              "    }\n",
              "\n",
              "    .colab-df-convert {\n",
              "      background-color: #E8F0FE;\n",
              "      border: none;\n",
              "      border-radius: 50%;\n",
              "      cursor: pointer;\n",
              "      display: none;\n",
              "      fill: #1967D2;\n",
              "      height: 32px;\n",
              "      padding: 0 0 0 0;\n",
              "      width: 32px;\n",
              "    }\n",
              "\n",
              "    .colab-df-convert:hover {\n",
              "      background-color: #E2EBFA;\n",
              "      box-shadow: 0px 1px 2px rgba(60, 64, 67, 0.3), 0px 1px 3px 1px rgba(60, 64, 67, 0.15);\n",
              "      fill: #174EA6;\n",
              "    }\n",
              "\n",
              "    [theme=dark] .colab-df-convert {\n",
              "      background-color: #3B4455;\n",
              "      fill: #D2E3FC;\n",
              "    }\n",
              "\n",
              "    [theme=dark] .colab-df-convert:hover {\n",
              "      background-color: #434B5C;\n",
              "      box-shadow: 0px 1px 3px 1px rgba(0, 0, 0, 0.15);\n",
              "      filter: drop-shadow(0px 1px 2px rgba(0, 0, 0, 0.3));\n",
              "      fill: #FFFFFF;\n",
              "    }\n",
              "  </style>\n",
              "\n",
              "      <script>\n",
              "        const buttonEl =\n",
              "          document.querySelector('#df-f8c5ec21-3493-4dcb-b04b-9e8c72b99896 button.colab-df-convert');\n",
              "        buttonEl.style.display =\n",
              "          google.colab.kernel.accessAllowed ? 'block' : 'none';\n",
              "\n",
              "        async function convertToInteractive(key) {\n",
              "          const element = document.querySelector('#df-f8c5ec21-3493-4dcb-b04b-9e8c72b99896');\n",
              "          const dataTable =\n",
              "            await google.colab.kernel.invokeFunction('convertToInteractive',\n",
              "                                                     [key], {});\n",
              "          if (!dataTable) return;\n",
              "\n",
              "          const docLinkHtml = 'Like what you see? Visit the ' +\n",
              "            '<a target=\"_blank\" href=https://colab.research.google.com/notebooks/data_table.ipynb>data table notebook</a>'\n",
              "            + ' to learn more about interactive tables.';\n",
              "          element.innerHTML = '';\n",
              "          dataTable['output_type'] = 'display_data';\n",
              "          await google.colab.output.renderOutput(dataTable, element);\n",
              "          const docLink = document.createElement('div');\n",
              "          docLink.innerHTML = docLinkHtml;\n",
              "          element.appendChild(docLink);\n",
              "        }\n",
              "      </script>\n",
              "    </div>\n",
              "  </div>\n",
              "  "
            ]
          },
          "metadata": {},
          "execution_count": 42
        }
      ]
    },
    {
      "cell_type": "code",
      "source": [
        "# Plot the strategy curve\n",
        "fig = plt.figure(figsize=(10,5))\n",
        "\n",
        "plt.plot(strategy_lg_df['Acceptance Rate'], strategy_lg_df['Bad Rate'])\n",
        "plt.xlabel('Acceptance Rate')\n",
        "plt.ylabel('Bad Rate')\n",
        "plt.title('Acceptance and Bad Rates')\n",
        "plt.axes().yaxis.grid()\n",
        "plt.axes().xaxis.grid()\n",
        "plt.show()"
      ],
      "metadata": {
        "colab": {
          "base_uri": "https://localhost:8080/",
          "height": 443
        },
        "outputId": "acd93f67-55e2-4877-bde0-615e77daac8b",
        "id": "4JD6tSY0ke4N"
      },
      "execution_count": 43,
      "outputs": [
        {
          "output_type": "stream",
          "name": "stderr",
          "text": [
            "/usr/local/lib/python3.7/dist-packages/ipykernel_launcher.py:8: MatplotlibDeprecationWarning: Adding an axes using the same arguments as a previous axes currently reuses the earlier instance.  In a future version, a new instance will always be created and returned.  Meanwhile, this warning can be suppressed, and the future behavior ensured, by passing a unique label to each axes instance.\n",
            "  \n",
            "/usr/local/lib/python3.7/dist-packages/ipykernel_launcher.py:9: MatplotlibDeprecationWarning: Adding an axes using the same arguments as a previous axes currently reuses the earlier instance.  In a future version, a new instance will always be created and returned.  Meanwhile, this warning can be suppressed, and the future behavior ensured, by passing a unique label to each axes instance.\n",
            "  if __name__ == '__main__':\n"
          ]
        },
        {
          "output_type": "display_data",
          "data": {
            "text/plain": [
              "<Figure size 720x360 with 1 Axes>"
            ],
            "image/png": "[encoded data removed]"
          },
          "metadata": {
            "needs_background": "light"
          }
        }
      ]
    },
    {
      "cell_type": "markdown",
      "source": [
        "Num Accepted Loans: The number of accepted loans based on the threshold\n",
        "\n",
        "Avg Loan Amnt: The average loan amount of the entire test set\n",
        "\n",
        "Estimated value: The estimated net value of non-defaults minus defaults"
      ],
      "metadata": {
        "id": "GktaD25pke4N"
      }
    },
    {
      "cell_type": "code",
      "source": [
        "# adding average loan amount from test data set\n",
        "strategy_lg_df['Avg Loan Amount'] = np.mean(X_test['N2'])*100\n",
        "\n",
        "# adding average value of accepted loan non-default minue average\n",
        "# value of accepted defaults\n",
        "strategy_lg_df['Estimated Value'] = ((strategy_lg_df['Num Accepted Loans'] *\n",
        "                                   (1 - strategy_lg_df['Bad Rate'])) *\n",
        "                                  strategy_lg_df['Avg Loan Amount']) - (strategy_lg_df['Num Accepted Loans'] *\n",
        "                                   strategy_lg_df['Bad Rate'] *\n",
        "                                   strategy_lg_df['Avg Loan Amount'])\n",
        "                                  \n",
        "strategy_lg_df.head()"
      ],
      "metadata": {
        "colab": {
          "base_uri": "https://localhost:8080/",
          "height": 206
        },
        "outputId": "7a0109e6-2a72-467f-d01e-94d9b64ea129",
        "id": "LMbvNCmKke4N"
      },
      "execution_count": 44,
      "outputs": [
        {
          "output_type": "execute_result",
          "data": {
            "text/plain": [
              "   Acceptance Rate  Threshold  Bad Rate  Num Accepted Loans  Avg Loan Amount  \\\n",
              "0             1.00      1.000     0.430                 206      3125.879227   \n",
              "1             0.95      0.985     0.398                 196      3125.879227   \n",
              "2             0.90      0.946     0.366                 186      3125.879227   \n",
              "3             0.85      0.914     0.330                 176      3125.879227   \n",
              "4             0.80      0.889     0.295                 165      3125.879227   \n",
              "\n",
              "   Estimated Value  \n",
              "0     90150.356908  \n",
              "1    124985.155014  \n",
              "2    155818.827710  \n",
              "3    187052.612947  \n",
              "4    211465.729710  "
            ],
            "text/html": [
              "\n",
              "  <div id=\"df-17359355-4844-4be6-b705-8a5ba2713132\">\n",
              "    <div class=\"colab-df-container\">\n",
              "      <div>\n",
              "<style scoped>\n",
              "    .dataframe tbody tr th:only-of-type {\n",
              "        vertical-align: middle;\n",
              "    }\n",
              "\n",
              "    .dataframe tbody tr th {\n",
              "        vertical-align: top;\n",
              "    }\n",
              "\n",
              "    .dataframe thead th {\n",
              "        text-align: right;\n",
              "    }\n",
              "</style>\n",
              "<table border=\"1\" class=\"dataframe\">\n",
              "  <thead>\n",
              "    <tr style=\"text-align: right;\">\n",
              "      <th></th>\n",
              "      <th>Acceptance Rate</th>\n",
              "      <th>Threshold</th>\n",
              "      <th>Bad Rate</th>\n",
              "      <th>Num Accepted Loans</th>\n",
              "      <th>Avg Loan Amount</th>\n",
              "      <th>Estimated Value</th>\n",
              "    </tr>\n",
              "  </thead>\n",
              "  <tbody>\n",
              "    <tr>\n",
              "      <th>0</th>\n",
              "      <td>1.00</td>\n",
              "      <td>1.000</td>\n",
              "      <td>0.430</td>\n",
              "      <td>206</td>\n",
              "      <td>3125.879227</td>\n",
              "      <td>90150.356908</td>\n",
              "    </tr>\n",
              "    <tr>\n",
              "      <th>1</th>\n",
              "      <td>0.95</td>\n",
              "      <td>0.985</td>\n",
              "      <td>0.398</td>\n",
              "      <td>196</td>\n",
              "      <td>3125.879227</td>\n",
              "      <td>124985.155014</td>\n",
              "    </tr>\n",
              "    <tr>\n",
              "      <th>2</th>\n",
              "      <td>0.90</td>\n",
              "      <td>0.946</td>\n",
              "      <td>0.366</td>\n",
              "      <td>186</td>\n",
              "      <td>3125.879227</td>\n",
              "      <td>155818.827710</td>\n",
              "    </tr>\n",
              "    <tr>\n",
              "      <th>3</th>\n",
              "      <td>0.85</td>\n",
              "      <td>0.914</td>\n",
              "      <td>0.330</td>\n",
              "      <td>176</td>\n",
              "      <td>3125.879227</td>\n",
              "      <td>187052.612947</td>\n",
              "    </tr>\n",
              "    <tr>\n",
              "      <th>4</th>\n",
              "      <td>0.80</td>\n",
              "      <td>0.889</td>\n",
              "      <td>0.295</td>\n",
              "      <td>165</td>\n",
              "      <td>3125.879227</td>\n",
              "      <td>211465.729710</td>\n",
              "    </tr>\n",
              "  </tbody>\n",
              "</table>\n",
              "</div>\n",
              "      <button class=\"colab-df-convert\" onclick=\"convertToInteractive('df-17359355-4844-4be6-b705-8a5ba2713132')\"\n",
              "              title=\"Convert this dataframe to an interactive table.\"\n",
              "              style=\"display:none;\">\n",
              "        \n",
              "  <svg xmlns=\"http://www.w3.org/2000/svg\" height=\"24px\"viewBox=\"0 0 24 24\"\n",
              "       width=\"24px\">\n",
              "    <path d=\"M0 0h24v24H0V0z\" fill=\"none\"/>\n",
              "    <path d=\"M18.56 5.44l.94 2.06.94-2.06 2.06-.94-2.06-.94-.94-2.06-.94 2.06-2.06.94zm-11 1L8.5 8.5l.94-2.06 2.06-.94-2.06-.94L8.5 2.5l-.94 2.06-2.06.94zm10 10l.94 2.06.94-2.06 2.06-.94-2.06-.94-.94-2.06-.94 2.06-2.06.94z\"/><path d=\"M17.41 7.96l-1.37-1.37c-.4-.4-.92-.59-1.43-.59-.52 0-1.04.2-1.43.59L10.3 9.45l-7.72 7.72c-.78.78-.78 2.05 0 2.83L4 21.41c.39.39.9.59 1.41.59.51 0 1.02-.2 1.41-.59l7.78-7.78 2.81-2.81c.8-.78.8-2.07 0-2.86zM5.41 20L4 18.59l7.72-7.72 1.47 1.35L5.41 20z\"/>\n",
              "  </svg>\n",
              "      </button>\n",
              "      \n",
              "  <style>\n",
              "    .colab-df-container {\n",
              "      display:flex;\n",
              "      flex-wrap:wrap;\n",
              "      gap: 12px;\n",
              "    }\n",
              "\n",
              "    .colab-df-convert {\n",
              "      background-color: #E8F0FE;\n",
              "      border: none;\n",
              "      border-radius: 50%;\n",
              "      cursor: pointer;\n",
              "      display: none;\n",
              "      fill: #1967D2;\n",
              "      height: 32px;\n",
              "      padding: 0 0 0 0;\n",
              "      width: 32px;\n",
              "    }\n",
              "\n",
              "    .colab-df-convert:hover {\n",
              "      background-color: #E2EBFA;\n",
              "      box-shadow: 0px 1px 2px rgba(60, 64, 67, 0.3), 0px 1px 3px 1px rgba(60, 64, 67, 0.15);\n",
              "      fill: #174EA6;\n",
              "    }\n",
              "\n",
              "    [theme=dark] .colab-df-convert {\n",
              "      background-color: #3B4455;\n",
              "      fill: #D2E3FC;\n",
              "    }\n",
              "\n",
              "    [theme=dark] .colab-df-convert:hover {\n",
              "      background-color: #434B5C;\n",
              "      box-shadow: 0px 1px 3px 1px rgba(0, 0, 0, 0.15);\n",
              "      filter: drop-shadow(0px 1px 2px rgba(0, 0, 0, 0.3));\n",
              "      fill: #FFFFFF;\n",
              "    }\n",
              "  </style>\n",
              "\n",
              "      <script>\n",
              "        const buttonEl =\n",
              "          document.querySelector('#df-17359355-4844-4be6-b705-8a5ba2713132 button.colab-df-convert');\n",
              "        buttonEl.style.display =\n",
              "          google.colab.kernel.accessAllowed ? 'block' : 'none';\n",
              "\n",
              "        async function convertToInteractive(key) {\n",
              "          const element = document.querySelector('#df-17359355-4844-4be6-b705-8a5ba2713132');\n",
              "          const dataTable =\n",
              "            await google.colab.kernel.invokeFunction('convertToInteractive',\n",
              "                                                     [key], {});\n",
              "          if (!dataTable) return;\n",
              "\n",
              "          const docLinkHtml = 'Like what you see? Visit the ' +\n",
              "            '<a target=\"_blank\" href=https://colab.research.google.com/notebooks/data_table.ipynb>data table notebook</a>'\n",
              "            + ' to learn more about interactive tables.';\n",
              "          element.innerHTML = '';\n",
              "          dataTable['output_type'] = 'display_data';\n",
              "          await google.colab.output.renderOutput(dataTable, element);\n",
              "          const docLink = document.createElement('div');\n",
              "          docLink.innerHTML = docLinkHtml;\n",
              "          element.appendChild(docLink);\n",
              "        }\n",
              "      </script>\n",
              "    </div>\n",
              "  </div>\n",
              "  "
            ]
          },
          "metadata": {},
          "execution_count": 44
        }
      ]
    },
    {
      "cell_type": "code",
      "source": [
        "# Create a line plot of estimated value\n",
        "fig = plt.figure(figsize=(10,5))\n",
        "plt.plot(strategy_lg_df['Acceptance Rate'],strategy_lg_df['Estimated Value'])\n",
        "plt.title('Estimated Value by Acceptance Rate')\n",
        "plt.xlabel('Acceptance Rate')\n",
        "plt.ylabel('Estimated Value')\n",
        "plt.axes().yaxis.grid()\n",
        "plt.show()"
      ],
      "metadata": {
        "colab": {
          "base_uri": "https://localhost:8080/",
          "height": 409
        },
        "outputId": "3ff44a8a-b455-4d26-c05e-8a25cb97e262",
        "id": "yQfqImJake4O"
      },
      "execution_count": 45,
      "outputs": [
        {
          "output_type": "stream",
          "name": "stderr",
          "text": [
            "/usr/local/lib/python3.7/dist-packages/ipykernel_launcher.py:7: MatplotlibDeprecationWarning: Adding an axes using the same arguments as a previous axes currently reuses the earlier instance.  In a future version, a new instance will always be created and returned.  Meanwhile, this warning can be suppressed, and the future behavior ensured, by passing a unique label to each axes instance.\n",
            "  import sys\n"
          ]
        },
        {
          "output_type": "display_data",
          "data": {
            "text/plain": [
              "<Figure size 720x360 with 1 Axes>"
            ],
            "image/png": "[encoded data removed]"
          },
          "metadata": {
            "needs_background": "light"
          }
        }
      ]
    },
    {
      "cell_type": "code",
      "source": [
        "# Print the row with the max estimated value\n",
        "print(strategy_lg_df.loc[strategy_lg_df['Estimated Value'] == np.max(strategy_lg_df['Estimated Value'])])"
      ],
      "metadata": {
        "colab": {
          "base_uri": "https://localhost:8080/"
        },
        "outputId": "a423e01c-5cbc-4531-f13e-080cc82c531a",
        "id": "FceshgeGke4O"
      },
      "execution_count": 46,
      "outputs": [
        {
          "output_type": "stream",
          "name": "stdout",
          "text": [
            "   Acceptance Rate  Threshold  Bad Rate  Num Accepted Loans  Avg Loan Amount  \\\n",
            "8              0.6      0.529     0.137                 124      3125.879227   \n",
            "\n",
            "   Estimated Value  \n",
            "8    281404.151536  \n"
          ]
        }
      ]
    },
    {
      "cell_type": "markdown",
      "source": [
        "Based on the maximum estimated value, acceptance rate of 0.6 and threshold of 0.529 is the best."
      ],
      "metadata": {
        "id": "RvMMWuEDke4O"
      }
    },
    {
      "cell_type": "code",
      "source": [
        "preds_df = pd.DataFrame({'prob_default': lg_prob})\n",
        "lg_preds_loan_status = preds_df['prob_default'].apply(\n",
        "    lambda x: 1 if x > 0.529 else 0)\n",
        "\n",
        "print('                   ', 'Logistic Regression', '\\n',\n",
        "classification_report(y_test, lg_preds_loan_status))"
      ],
      "metadata": {
        "colab": {
          "base_uri": "https://localhost:8080/"
        },
        "outputId": "1f426e90-9c6a-4d4b-dfd9-3021a919f252",
        "id": "5aEtv4H6ke4P"
      },
      "execution_count": 47,
      "outputs": [
        {
          "output_type": "stream",
          "name": "stdout",
          "text": [
            "                    Logistic Regression \n",
            "               precision    recall  f1-score   support\n",
            "\n",
            "           0       0.86      0.91      0.88       118\n",
            "           1       0.87      0.81      0.84        89\n",
            "\n",
            "    accuracy                           0.86       207\n",
            "   macro avg       0.87      0.86      0.86       207\n",
            "weighted avg       0.86      0.86      0.86       207\n",
            "\n"
          ]
        }
      ]
    },
    {
      "cell_type": "code",
      "source": [
        "cnf_matrix = confusion_matrix(y_test, lg_preds_loan_status)\n",
        "sns.heatmap(pd.DataFrame(cnf_matrix), annot=True, cmap='Blues', fmt='g')\n",
        "plt.title('Logistic Regression')\n",
        "plt.ylabel('Actual Label')\n",
        "plt.xlabel('Predicted Label')"
      ],
      "metadata": {
        "colab": {
          "base_uri": "https://localhost:8080/",
          "height": 316
        },
        "id": "Cx8C5sU4Juz0",
        "outputId": "6666e7b7-800d-441f-d34d-a2240b13bd5e"
      },
      "execution_count": 48,
      "outputs": [
        {
          "output_type": "execute_result",
          "data": {
            "text/plain": [
              "Text(0.5, 15.0, 'Predicted Label')"
            ]
          },
          "metadata": {},
          "execution_count": 48
        },
        {
          "output_type": "display_data",
          "data": {
            "text/plain": [
              "<Figure size 432x288 with 2 Axes>"
            ],
            "image/png": "[encoded data removed]"
          },
          "metadata": {
            "needs_background": "light"
          }
        }
      ]
    },
    {
      "cell_type": "markdown",
      "source": [
        "####Acceptance rates Random Forest"
      ],
      "metadata": {
        "id": "eYlo1psfiZnz"
      }
    },
    {
      "cell_type": "markdown",
      "source": [
        "Acceptance rate is a percentage of new loans that we accept with the goal of keeping the number of defaults in a portfolio below a certain number."
      ],
      "metadata": {
        "id": "10zl_nZOiZn3"
      }
    },
    {
      "cell_type": "code",
      "source": [
        "#Random Forest\n",
        "rfc_preds = rfc_model.predict(X_test)\n",
        "rfc_prob = rfc_model.predict_proba(X_test)[:, 1]\n",
        "\n",
        "rfc_df = pd.DataFrame({'true_loan_status': y_test,\n",
        "                       'prob_default': rfc_prob, 'pred_loan_status': rfc_preds})\n",
        "rfc_df.sample()"
      ],
      "metadata": {
        "colab": {
          "base_uri": "https://localhost:8080/",
          "height": 81
        },
        "outputId": "48afded8-310c-43ce-f55d-6a87fb4aed97",
        "id": "9_TmDGkYiZn4"
      },
      "execution_count": 49,
      "outputs": [
        {
          "output_type": "execute_result",
          "data": {
            "text/plain": [
              "     true_loan_status  prob_default  pred_loan_status\n",
              "362                 0          0.15                 0"
            ],
            "text/html": [
              "\n",
              "  <div id=\"df-ae8bfe5d-9c7b-4511-b32a-cbbc8e7f319e\">\n",
              "    <div class=\"colab-df-container\">\n",
              "      <div>\n",
              "<style scoped>\n",
              "    .dataframe tbody tr th:only-of-type {\n",
              "        vertical-align: middle;\n",
              "    }\n",
              "\n",
              "    .dataframe tbody tr th {\n",
              "        vertical-align: top;\n",
              "    }\n",
              "\n",
              "    .dataframe thead th {\n",
              "        text-align: right;\n",
              "    }\n",
              "</style>\n",
              "<table border=\"1\" class=\"dataframe\">\n",
              "  <thead>\n",
              "    <tr style=\"text-align: right;\">\n",
              "      <th></th>\n",
              "      <th>true_loan_status</th>\n",
              "      <th>prob_default</th>\n",
              "      <th>pred_loan_status</th>\n",
              "    </tr>\n",
              "  </thead>\n",
              "  <tbody>\n",
              "    <tr>\n",
              "      <th>362</th>\n",
              "      <td>0</td>\n",
              "      <td>0.15</td>\n",
              "      <td>0</td>\n",
              "    </tr>\n",
              "  </tbody>\n",
              "</table>\n",
              "</div>\n",
              "      <button class=\"colab-df-convert\" onclick=\"convertToInteractive('df-ae8bfe5d-9c7b-4511-b32a-cbbc8e7f319e')\"\n",
              "              title=\"Convert this dataframe to an interactive table.\"\n",
              "              style=\"display:none;\">\n",
              "        \n",
              "  <svg xmlns=\"http://www.w3.org/2000/svg\" height=\"24px\"viewBox=\"0 0 24 24\"\n",
              "       width=\"24px\">\n",
              "    <path d=\"M0 0h24v24H0V0z\" fill=\"none\"/>\n",
              "    <path d=\"M18.56 5.44l.94 2.06.94-2.06 2.06-.94-2.06-.94-.94-2.06-.94 2.06-2.06.94zm-11 1L8.5 8.5l.94-2.06 2.06-.94-2.06-.94L8.5 2.5l-.94 2.06-2.06.94zm10 10l.94 2.06.94-2.06 2.06-.94-2.06-.94-.94-2.06-.94 2.06-2.06.94z\"/><path d=\"M17.41 7.96l-1.37-1.37c-.4-.4-.92-.59-1.43-.59-.52 0-1.04.2-1.43.59L10.3 9.45l-7.72 7.72c-.78.78-.78 2.05 0 2.83L4 21.41c.39.39.9.59 1.41.59.51 0 1.02-.2 1.41-.59l7.78-7.78 2.81-2.81c.8-.78.8-2.07 0-2.86zM5.41 20L4 18.59l7.72-7.72 1.47 1.35L5.41 20z\"/>\n",
              "  </svg>\n",
              "      </button>\n",
              "      \n",
              "  <style>\n",
              "    .colab-df-container {\n",
              "      display:flex;\n",
              "      flex-wrap:wrap;\n",
              "      gap: 12px;\n",
              "    }\n",
              "\n",
              "    .colab-df-convert {\n",
              "      background-color: #E8F0FE;\n",
              "      border: none;\n",
              "      border-radius: 50%;\n",
              "      cursor: pointer;\n",
              "      display: none;\n",
              "      fill: #1967D2;\n",
              "      height: 32px;\n",
              "      padding: 0 0 0 0;\n",
              "      width: 32px;\n",
              "    }\n",
              "\n",
              "    .colab-df-convert:hover {\n",
              "      background-color: #E2EBFA;\n",
              "      box-shadow: 0px 1px 2px rgba(60, 64, 67, 0.3), 0px 1px 3px 1px rgba(60, 64, 67, 0.15);\n",
              "      fill: #174EA6;\n",
              "    }\n",
              "\n",
              "    [theme=dark] .colab-df-convert {\n",
              "      background-color: #3B4455;\n",
              "      fill: #D2E3FC;\n",
              "    }\n",
              "\n",
              "    [theme=dark] .colab-df-convert:hover {\n",
              "      background-color: #434B5C;\n",
              "      box-shadow: 0px 1px 3px 1px rgba(0, 0, 0, 0.15);\n",
              "      filter: drop-shadow(0px 1px 2px rgba(0, 0, 0, 0.3));\n",
              "      fill: #FFFFFF;\n",
              "    }\n",
              "  </style>\n",
              "\n",
              "      <script>\n",
              "        const buttonEl =\n",
              "          document.querySelector('#df-ae8bfe5d-9c7b-4511-b32a-cbbc8e7f319e button.colab-df-convert');\n",
              "        buttonEl.style.display =\n",
              "          google.colab.kernel.accessAllowed ? 'block' : 'none';\n",
              "\n",
              "        async function convertToInteractive(key) {\n",
              "          const element = document.querySelector('#df-ae8bfe5d-9c7b-4511-b32a-cbbc8e7f319e');\n",
              "          const dataTable =\n",
              "            await google.colab.kernel.invokeFunction('convertToInteractive',\n",
              "                                                     [key], {});\n",
              "          if (!dataTable) return;\n",
              "\n",
              "          const docLinkHtml = 'Like what you see? Visit the ' +\n",
              "            '<a target=\"_blank\" href=https://colab.research.google.com/notebooks/data_table.ipynb>data table notebook</a>'\n",
              "            + ' to learn more about interactive tables.';\n",
              "          element.innerHTML = '';\n",
              "          dataTable['output_type'] = 'display_data';\n",
              "          await google.colab.output.renderOutput(dataTable, element);\n",
              "          const docLink = document.createElement('div');\n",
              "          docLink.innerHTML = docLinkHtml;\n",
              "          element.appendChild(docLink);\n",
              "        }\n",
              "      </script>\n",
              "    </div>\n",
              "  </div>\n",
              "  "
            ]
          },
          "metadata": {},
          "execution_count": 49
        }
      ]
    },
    {
      "cell_type": "markdown",
      "source": [
        "Credit strategy and minimum expected loss"
      ],
      "metadata": {
        "id": "4ia3__AJiZn5"
      }
    },
    {
      "cell_type": "code",
      "source": [
        "# set all acceptance rates to test\n",
        "accept_rates = [1.0, 0.95, 0.9, 0.85, 0.8, 0.75, 0.7, 0.65, 0.6, 0.55,\n",
        "    0.5, 0.45, 0.4, 0.35, 0.3, 0.25, 0.2, 0.15, 0.1, 0.05]\n",
        "# create lists to store threshols and bad rates and number of accepted loand\n",
        "thresholds = []\n",
        "bad_rates = []\n",
        "num_accepted_loans = []"
      ],
      "metadata": {
        "id": "M6GuVf8PiZn5"
      },
      "execution_count": 50,
      "outputs": []
    },
    {
      "cell_type": "code",
      "source": [
        "def strategy_table(accept_rates):\n",
        "  for rate in accept_rates:\n",
        "    # calculate threshold\n",
        "    threshold = np.quantile(rfc_df['prob_default'], rate).round(3)\n",
        "    # store threshold value in list\n",
        "    thresholds.append(threshold)\n",
        "    # apply thresholds to reassign loan status\n",
        "    rfc_df['pred_loan_status'] = rfc_df['prob_default'].apply(\n",
        "        lambda x: 1 if x > threshold else 0)\n",
        "    # create accepted loans set of predicted non-default\n",
        "    accepted_loans = rfc_df[rfc_df['pred_loan_status'] == 0]\n",
        "    # claculate and store bad rate\n",
        "    bad_rates.append(np.sum((accepted_loans['true_loan_status'])\n",
        "              / accepted_loans['true_loan_status'].count()).round(3))\n",
        "    # add the number of accepted loans for each acceptance rate\n",
        "    num_accepted_loans.append(len(rfc_df[rfc_df['prob_default'] <\n",
        "                                          np.quantile(rfc_df['prob_default'],\n",
        "                                                      rate)]))"
      ],
      "metadata": {
        "id": "dq_TsqeBiZn5"
      },
      "execution_count": 51,
      "outputs": []
    },
    {
      "cell_type": "code",
      "source": [
        "strategy_table(accept_rates)\n",
        "\n",
        "# create strategy dataframe\n",
        "strategy_rf_df = pd.DataFrame(zip(accept_rates, thresholds, bad_rates,\n",
        "                               num_accepted_loans),\n",
        "                           columns=['Acceptance Rate', 'Threshold',\n",
        "                                    'Bad Rate', 'Num Accepted Loans'])\n",
        "strategy_rf_df.head()"
      ],
      "metadata": {
        "colab": {
          "base_uri": "https://localhost:8080/",
          "height": 206
        },
        "outputId": "c78a20f9-5ef1-4167-9ff8-d5a7f2254ee6",
        "id": "3CLHQUIfiZn6"
      },
      "execution_count": 52,
      "outputs": [
        {
          "output_type": "execute_result",
          "data": {
            "text/plain": [
              "   Acceptance Rate  Threshold  Bad Rate  Num Accepted Loans\n",
              "0             1.00      1.000     0.430                 203\n",
              "1             0.95      0.960     0.401                 195\n",
              "2             0.90      0.924     0.371                 186\n",
              "3             0.85      0.900     0.348                 174\n",
              "4             0.80      0.848     0.303                 165"
            ],
            "text/html": [
              "\n",
              "  <div id=\"df-2a284c2b-be60-481e-bef3-3d97adf8cc95\">\n",
              "    <div class=\"colab-df-container\">\n",
              "      <div>\n",
              "<style scoped>\n",
              "    .dataframe tbody tr th:only-of-type {\n",
              "        vertical-align: middle;\n",
              "    }\n",
              "\n",
              "    .dataframe tbody tr th {\n",
              "        vertical-align: top;\n",
              "    }\n",
              "\n",
              "    .dataframe thead th {\n",
              "        text-align: right;\n",
              "    }\n",
              "</style>\n",
              "<table border=\"1\" class=\"dataframe\">\n",
              "  <thead>\n",
              "    <tr style=\"text-align: right;\">\n",
              "      <th></th>\n",
              "      <th>Acceptance Rate</th>\n",
              "      <th>Threshold</th>\n",
              "      <th>Bad Rate</th>\n",
              "      <th>Num Accepted Loans</th>\n",
              "    </tr>\n",
              "  </thead>\n",
              "  <tbody>\n",
              "    <tr>\n",
              "      <th>0</th>\n",
              "      <td>1.00</td>\n",
              "      <td>1.000</td>\n",
              "      <td>0.430</td>\n",
              "      <td>203</td>\n",
              "    </tr>\n",
              "    <tr>\n",
              "      <th>1</th>\n",
              "      <td>0.95</td>\n",
              "      <td>0.960</td>\n",
              "      <td>0.401</td>\n",
              "      <td>195</td>\n",
              "    </tr>\n",
              "    <tr>\n",
              "      <th>2</th>\n",
              "      <td>0.90</td>\n",
              "      <td>0.924</td>\n",
              "      <td>0.371</td>\n",
              "      <td>186</td>\n",
              "    </tr>\n",
              "    <tr>\n",
              "      <th>3</th>\n",
              "      <td>0.85</td>\n",
              "      <td>0.900</td>\n",
              "      <td>0.348</td>\n",
              "      <td>174</td>\n",
              "    </tr>\n",
              "    <tr>\n",
              "      <th>4</th>\n",
              "      <td>0.80</td>\n",
              "      <td>0.848</td>\n",
              "      <td>0.303</td>\n",
              "      <td>165</td>\n",
              "    </tr>\n",
              "  </tbody>\n",
              "</table>\n",
              "</div>\n",
              "      <button class=\"colab-df-convert\" onclick=\"convertToInteractive('df-2a284c2b-be60-481e-bef3-3d97adf8cc95')\"\n",
              "              title=\"Convert this dataframe to an interactive table.\"\n",
              "              style=\"display:none;\">\n",
              "        \n",
              "  <svg xmlns=\"http://www.w3.org/2000/svg\" height=\"24px\"viewBox=\"0 0 24 24\"\n",
              "       width=\"24px\">\n",
              "    <path d=\"M0 0h24v24H0V0z\" fill=\"none\"/>\n",
              "    <path d=\"M18.56 5.44l.94 2.06.94-2.06 2.06-.94-2.06-.94-.94-2.06-.94 2.06-2.06.94zm-11 1L8.5 8.5l.94-2.06 2.06-.94-2.06-.94L8.5 2.5l-.94 2.06-2.06.94zm10 10l.94 2.06.94-2.06 2.06-.94-2.06-.94-.94-2.06-.94 2.06-2.06.94z\"/><path d=\"M17.41 7.96l-1.37-1.37c-.4-.4-.92-.59-1.43-.59-.52 0-1.04.2-1.43.59L10.3 9.45l-7.72 7.72c-.78.78-.78 2.05 0 2.83L4 21.41c.39.39.9.59 1.41.59.51 0 1.02-.2 1.41-.59l7.78-7.78 2.81-2.81c.8-.78.8-2.07 0-2.86zM5.41 20L4 18.59l7.72-7.72 1.47 1.35L5.41 20z\"/>\n",
              "  </svg>\n",
              "      </button>\n",
              "      \n",
              "  <style>\n",
              "    .colab-df-container {\n",
              "      display:flex;\n",
              "      flex-wrap:wrap;\n",
              "      gap: 12px;\n",
              "    }\n",
              "\n",
              "    .colab-df-convert {\n",
              "      background-color: #E8F0FE;\n",
              "      border: none;\n",
              "      border-radius: 50%;\n",
              "      cursor: pointer;\n",
              "      display: none;\n",
              "      fill: #1967D2;\n",
              "      height: 32px;\n",
              "      padding: 0 0 0 0;\n",
              "      width: 32px;\n",
              "    }\n",
              "\n",
              "    .colab-df-convert:hover {\n",
              "      background-color: #E2EBFA;\n",
              "      box-shadow: 0px 1px 2px rgba(60, 64, 67, 0.3), 0px 1px 3px 1px rgba(60, 64, 67, 0.15);\n",
              "      fill: #174EA6;\n",
              "    }\n",
              "\n",
              "    [theme=dark] .colab-df-convert {\n",
              "      background-color: #3B4455;\n",
              "      fill: #D2E3FC;\n",
              "    }\n",
              "\n",
              "    [theme=dark] .colab-df-convert:hover {\n",
              "      background-color: #434B5C;\n",
              "      box-shadow: 0px 1px 3px 1px rgba(0, 0, 0, 0.15);\n",
              "      filter: drop-shadow(0px 1px 2px rgba(0, 0, 0, 0.3));\n",
              "      fill: #FFFFFF;\n",
              "    }\n",
              "  </style>\n",
              "\n",
              "      <script>\n",
              "        const buttonEl =\n",
              "          document.querySelector('#df-2a284c2b-be60-481e-bef3-3d97adf8cc95 button.colab-df-convert');\n",
              "        buttonEl.style.display =\n",
              "          google.colab.kernel.accessAllowed ? 'block' : 'none';\n",
              "\n",
              "        async function convertToInteractive(key) {\n",
              "          const element = document.querySelector('#df-2a284c2b-be60-481e-bef3-3d97adf8cc95');\n",
              "          const dataTable =\n",
              "            await google.colab.kernel.invokeFunction('convertToInteractive',\n",
              "                                                     [key], {});\n",
              "          if (!dataTable) return;\n",
              "\n",
              "          const docLinkHtml = 'Like what you see? Visit the ' +\n",
              "            '<a target=\"_blank\" href=https://colab.research.google.com/notebooks/data_table.ipynb>data table notebook</a>'\n",
              "            + ' to learn more about interactive tables.';\n",
              "          element.innerHTML = '';\n",
              "          dataTable['output_type'] = 'display_data';\n",
              "          await google.colab.output.renderOutput(dataTable, element);\n",
              "          const docLink = document.createElement('div');\n",
              "          docLink.innerHTML = docLinkHtml;\n",
              "          element.appendChild(docLink);\n",
              "        }\n",
              "      </script>\n",
              "    </div>\n",
              "  </div>\n",
              "  "
            ]
          },
          "metadata": {},
          "execution_count": 52
        }
      ]
    },
    {
      "cell_type": "code",
      "source": [
        "# Plot the strategy curve\n",
        "fig = plt.figure(figsize=(10,5))\n",
        "\n",
        "plt.plot(strategy_rf_df['Acceptance Rate'], strategy_rf_df['Bad Rate'])\n",
        "plt.xlabel('Acceptance Rate')\n",
        "plt.ylabel('Bad Rate')\n",
        "plt.title('Acceptance and Bad Rates')\n",
        "plt.axes().yaxis.grid()\n",
        "plt.axes().xaxis.grid()\n",
        "plt.show()"
      ],
      "metadata": {
        "colab": {
          "base_uri": "https://localhost:8080/",
          "height": 443
        },
        "outputId": "7b6e53c7-343c-424e-c036-4f12e920cdea",
        "id": "idHOpYhmiZn7"
      },
      "execution_count": 53,
      "outputs": [
        {
          "output_type": "stream",
          "name": "stderr",
          "text": [
            "/usr/local/lib/python3.7/dist-packages/ipykernel_launcher.py:8: MatplotlibDeprecationWarning: Adding an axes using the same arguments as a previous axes currently reuses the earlier instance.  In a future version, a new instance will always be created and returned.  Meanwhile, this warning can be suppressed, and the future behavior ensured, by passing a unique label to each axes instance.\n",
            "  \n",
            "/usr/local/lib/python3.7/dist-packages/ipykernel_launcher.py:9: MatplotlibDeprecationWarning: Adding an axes using the same arguments as a previous axes currently reuses the earlier instance.  In a future version, a new instance will always be created and returned.  Meanwhile, this warning can be suppressed, and the future behavior ensured, by passing a unique label to each axes instance.\n",
            "  if __name__ == '__main__':\n"
          ]
        },
        {
          "output_type": "display_data",
          "data": {
            "text/plain": [
              "<Figure size 720x360 with 1 Axes>"
            ],
            "image/png": "[encoded data removed]"
          },
          "metadata": {
            "needs_background": "light"
          }
        }
      ]
    },
    {
      "cell_type": "markdown",
      "source": [
        "Num Accepted Loans: The number of accepted loans based on the threshold\n",
        "\n",
        "Avg Loan Amnt: The average loan amount of the entire test set\n",
        "\n",
        "Estimated value: The estimated net value of non-defaults minus defaults"
      ],
      "metadata": {
        "id": "cKBjq9M4iZn7"
      }
    },
    {
      "cell_type": "code",
      "source": [
        "# adding average loan amount from test data set\n",
        "strategy_rf_df['Avg Loan Amount'] = np.mean(X_test['N2'])*100\n",
        "\n",
        "# adding average value of accepted loan non-default minue average\n",
        "# value of accepted defaults\n",
        "strategy_rf_df['Estimated Value'] = ((strategy_rf_df['Num Accepted Loans'] *\n",
        "                                   (1 - strategy_rf_df['Bad Rate'])) *\n",
        "                                  strategy_rf_df['Avg Loan Amount']) - (strategy_rf_df['Num Accepted Loans'] *\n",
        "                                   strategy_rf_df['Bad Rate'] *\n",
        "                                   strategy_rf_df['Avg Loan Amount'])\n",
        "                                  \n",
        "strategy_rf_df.head()"
      ],
      "metadata": {
        "colab": {
          "base_uri": "https://localhost:8080/",
          "height": 206
        },
        "outputId": "cfcdfe8e-a6af-48b4-a296-a8dd7323dc24",
        "id": "mrK98i0OiZn8"
      },
      "execution_count": 54,
      "outputs": [
        {
          "output_type": "execute_result",
          "data": {
            "text/plain": [
              "   Acceptance Rate  Threshold  Bad Rate  Num Accepted Loans  Avg Loan Amount  \\\n",
              "0             1.00      1.000     0.430                 203      3125.879227   \n",
              "1             0.95      0.960     0.401                 195      3125.879227   \n",
              "2             0.90      0.924     0.371                 186      3125.879227   \n",
              "3             0.85      0.900     0.348                 174      3125.879227   \n",
              "4             0.80      0.848     0.303                 165      3125.879227   \n",
              "\n",
              "   Estimated Value  \n",
              "0     88837.487633  \n",
              "1    120690.196957  \n",
              "2    150004.692348  \n",
              "3    165346.507594  \n",
              "4    203213.408551  "
            ],
            "text/html": [
              "\n",
              "  <div id=\"df-39734ba7-e70d-4d7a-bcb8-e5154bda1a29\">\n",
              "    <div class=\"colab-df-container\">\n",
              "      <div>\n",
              "<style scoped>\n",
              "    .dataframe tbody tr th:only-of-type {\n",
              "        vertical-align: middle;\n",
              "    }\n",
              "\n",
              "    .dataframe tbody tr th {\n",
              "        vertical-align: top;\n",
              "    }\n",
              "\n",
              "    .dataframe thead th {\n",
              "        text-align: right;\n",
              "    }\n",
              "</style>\n",
              "<table border=\"1\" class=\"dataframe\">\n",
              "  <thead>\n",
              "    <tr style=\"text-align: right;\">\n",
              "      <th></th>\n",
              "      <th>Acceptance Rate</th>\n",
              "      <th>Threshold</th>\n",
              "      <th>Bad Rate</th>\n",
              "      <th>Num Accepted Loans</th>\n",
              "      <th>Avg Loan Amount</th>\n",
              "      <th>Estimated Value</th>\n",
              "    </tr>\n",
              "  </thead>\n",
              "  <tbody>\n",
              "    <tr>\n",
              "      <th>0</th>\n",
              "      <td>1.00</td>\n",
              "      <td>1.000</td>\n",
              "      <td>0.430</td>\n",
              "      <td>203</td>\n",
              "      <td>3125.879227</td>\n",
              "      <td>88837.487633</td>\n",
              "    </tr>\n",
              "    <tr>\n",
              "      <th>1</th>\n",
              "      <td>0.95</td>\n",
              "      <td>0.960</td>\n",
              "      <td>0.401</td>\n",
              "      <td>195</td>\n",
              "      <td>3125.879227</td>\n",
              "      <td>120690.196957</td>\n",
              "    </tr>\n",
              "    <tr>\n",
              "      <th>2</th>\n",
              "      <td>0.90</td>\n",
              "      <td>0.924</td>\n",
              "      <td>0.371</td>\n",
              "      <td>186</td>\n",
              "      <td>3125.879227</td>\n",
              "      <td>150004.692348</td>\n",
              "    </tr>\n",
              "    <tr>\n",
              "      <th>3</th>\n",
              "      <td>0.85</td>\n",
              "      <td>0.900</td>\n",
              "      <td>0.348</td>\n",
              "      <td>174</td>\n",
              "      <td>3125.879227</td>\n",
              "      <td>165346.507594</td>\n",
              "    </tr>\n",
              "    <tr>\n",
              "      <th>4</th>\n",
              "      <td>0.80</td>\n",
              "      <td>0.848</td>\n",
              "      <td>0.303</td>\n",
              "      <td>165</td>\n",
              "      <td>3125.879227</td>\n",
              "      <td>203213.408551</td>\n",
              "    </tr>\n",
              "  </tbody>\n",
              "</table>\n",
              "</div>\n",
              "      <button class=\"colab-df-convert\" onclick=\"convertToInteractive('df-39734ba7-e70d-4d7a-bcb8-e5154bda1a29')\"\n",
              "              title=\"Convert this dataframe to an interactive table.\"\n",
              "              style=\"display:none;\">\n",
              "        \n",
              "  <svg xmlns=\"http://www.w3.org/2000/svg\" height=\"24px\"viewBox=\"0 0 24 24\"\n",
              "       width=\"24px\">\n",
              "    <path d=\"M0 0h24v24H0V0z\" fill=\"none\"/>\n",
              "    <path d=\"M18.56 5.44l.94 2.06.94-2.06 2.06-.94-2.06-.94-.94-2.06-.94 2.06-2.06.94zm-11 1L8.5 8.5l.94-2.06 2.06-.94-2.06-.94L8.5 2.5l-.94 2.06-2.06.94zm10 10l.94 2.06.94-2.06 2.06-.94-2.06-.94-.94-2.06-.94 2.06-2.06.94z\"/><path d=\"M17.41 7.96l-1.37-1.37c-.4-.4-.92-.59-1.43-.59-.52 0-1.04.2-1.43.59L10.3 9.45l-7.72 7.72c-.78.78-.78 2.05 0 2.83L4 21.41c.39.39.9.59 1.41.59.51 0 1.02-.2 1.41-.59l7.78-7.78 2.81-2.81c.8-.78.8-2.07 0-2.86zM5.41 20L4 18.59l7.72-7.72 1.47 1.35L5.41 20z\"/>\n",
              "  </svg>\n",
              "      </button>\n",
              "      \n",
              "  <style>\n",
              "    .colab-df-container {\n",
              "      display:flex;\n",
              "      flex-wrap:wrap;\n",
              "      gap: 12px;\n",
              "    }\n",
              "\n",
              "    .colab-df-convert {\n",
              "      background-color: #E8F0FE;\n",
              "      border: none;\n",
              "      border-radius: 50%;\n",
              "      cursor: pointer;\n",
              "      display: none;\n",
              "      fill: #1967D2;\n",
              "      height: 32px;\n",
              "      padding: 0 0 0 0;\n",
              "      width: 32px;\n",
              "    }\n",
              "\n",
              "    .colab-df-convert:hover {\n",
              "      background-color: #E2EBFA;\n",
              "      box-shadow: 0px 1px 2px rgba(60, 64, 67, 0.3), 0px 1px 3px 1px rgba(60, 64, 67, 0.15);\n",
              "      fill: #174EA6;\n",
              "    }\n",
              "\n",
              "    [theme=dark] .colab-df-convert {\n",
              "      background-color: #3B4455;\n",
              "      fill: #D2E3FC;\n",
              "    }\n",
              "\n",
              "    [theme=dark] .colab-df-convert:hover {\n",
              "      background-color: #434B5C;\n",
              "      box-shadow: 0px 1px 3px 1px rgba(0, 0, 0, 0.15);\n",
              "      filter: drop-shadow(0px 1px 2px rgba(0, 0, 0, 0.3));\n",
              "      fill: #FFFFFF;\n",
              "    }\n",
              "  </style>\n",
              "\n",
              "      <script>\n",
              "        const buttonEl =\n",
              "          document.querySelector('#df-39734ba7-e70d-4d7a-bcb8-e5154bda1a29 button.colab-df-convert');\n",
              "        buttonEl.style.display =\n",
              "          google.colab.kernel.accessAllowed ? 'block' : 'none';\n",
              "\n",
              "        async function convertToInteractive(key) {\n",
              "          const element = document.querySelector('#df-39734ba7-e70d-4d7a-bcb8-e5154bda1a29');\n",
              "          const dataTable =\n",
              "            await google.colab.kernel.invokeFunction('convertToInteractive',\n",
              "                                                     [key], {});\n",
              "          if (!dataTable) return;\n",
              "\n",
              "          const docLinkHtml = 'Like what you see? Visit the ' +\n",
              "            '<a target=\"_blank\" href=https://colab.research.google.com/notebooks/data_table.ipynb>data table notebook</a>'\n",
              "            + ' to learn more about interactive tables.';\n",
              "          element.innerHTML = '';\n",
              "          dataTable['output_type'] = 'display_data';\n",
              "          await google.colab.output.renderOutput(dataTable, element);\n",
              "          const docLink = document.createElement('div');\n",
              "          docLink.innerHTML = docLinkHtml;\n",
              "          element.appendChild(docLink);\n",
              "        }\n",
              "      </script>\n",
              "    </div>\n",
              "  </div>\n",
              "  "
            ]
          },
          "metadata": {},
          "execution_count": 54
        }
      ]
    },
    {
      "cell_type": "code",
      "source": [
        "# Create a line plot of estimated value\n",
        "fig = plt.figure(figsize=(10,5))\n",
        "plt.plot(strategy_rf_df['Acceptance Rate'],strategy_rf_df['Estimated Value'])\n",
        "plt.title('Estimated Value by Acceptance Rate')\n",
        "plt.xlabel('Acceptance Rate')\n",
        "plt.ylabel('Estimated Value')\n",
        "plt.axes().yaxis.grid()\n",
        "plt.show()"
      ],
      "metadata": {
        "colab": {
          "base_uri": "https://localhost:8080/",
          "height": 409
        },
        "outputId": "3b28d7e6-3069-42f1-f226-e566cfc11125",
        "id": "tuCsgceoiZn8"
      },
      "execution_count": 55,
      "outputs": [
        {
          "output_type": "stream",
          "name": "stderr",
          "text": [
            "/usr/local/lib/python3.7/dist-packages/ipykernel_launcher.py:7: MatplotlibDeprecationWarning: Adding an axes using the same arguments as a previous axes currently reuses the earlier instance.  In a future version, a new instance will always be created and returned.  Meanwhile, this warning can be suppressed, and the future behavior ensured, by passing a unique label to each axes instance.\n",
            "  import sys\n"
          ]
        },
        {
          "output_type": "display_data",
          "data": {
            "text/plain": [
              "<Figure size 720x360 with 1 Axes>"
            ],
            "image/png": "[encoded data removed]"
          },
          "metadata": {
            "needs_background": "light"
          }
        }
      ]
    },
    {
      "cell_type": "code",
      "source": [
        "# Print the row with the max estimated value\n",
        "print(strategy_rf_df.loc[strategy_rf_df['Estimated Value'] == np.max(strategy_rf_df['Estimated Value'])])"
      ],
      "metadata": {
        "colab": {
          "base_uri": "https://localhost:8080/"
        },
        "outputId": "5961f66a-4215-4020-d0c0-f56e63ca9f77",
        "id": "EHkAYU38iZn9"
      },
      "execution_count": 56,
      "outputs": [
        {
          "output_type": "stream",
          "name": "stdout",
          "text": [
            "   Acceptance Rate  Threshold  Bad Rate  Num Accepted Loans  Avg Loan Amount  \\\n",
            "9             0.55      0.423     0.114                 114      3125.879227   \n",
            "\n",
            "   Estimated Value  \n",
            "9    275102.379014  \n"
          ]
        }
      ]
    },
    {
      "cell_type": "markdown",
      "source": [
        "Based on the maximum estimated value, acceptance rate of 0.55 and threshold of 0.423 is the best."
      ],
      "metadata": {
        "id": "gkfEXv9SiZn9"
      }
    },
    {
      "cell_type": "code",
      "source": [
        "preds_df = pd.DataFrame({'prob_default': rfc_prob})\n",
        "rfc_preds_loan_status = preds_df['prob_default'].apply(\n",
        "    lambda x: 1 if x > 0.423 else 0)\n",
        "\n",
        "print('                   ', 'Random Forest', '\\n',\n",
        "classification_report(y_test, rfc_preds_loan_status))"
      ],
      "metadata": {
        "colab": {
          "base_uri": "https://localhost:8080/"
        },
        "outputId": "72fea3d1-d9d4-455d-bc47-5657a4df2870",
        "id": "GEaAt5-QiZn9"
      },
      "execution_count": 57,
      "outputs": [
        {
          "output_type": "stream",
          "name": "stdout",
          "text": [
            "                    Random Forest \n",
            "               precision    recall  f1-score   support\n",
            "\n",
            "           0       0.89      0.86      0.87       118\n",
            "           1       0.82      0.85      0.84        89\n",
            "\n",
            "    accuracy                           0.86       207\n",
            "   macro avg       0.85      0.85      0.85       207\n",
            "weighted avg       0.86      0.86      0.86       207\n",
            "\n"
          ]
        }
      ]
    },
    {
      "cell_type": "code",
      "source": [
        "cnf_matrix = confusion_matrix(y_test, rfc_preds_loan_status)\n",
        "sns.heatmap(pd.DataFrame(cnf_matrix), annot=True, cmap='Blues', fmt='g')\n",
        "plt.title('Random Forest')\n",
        "plt.ylabel('Actual Label')\n",
        "plt.xlabel('Predicted Label')"
      ],
      "metadata": {
        "colab": {
          "base_uri": "https://localhost:8080/",
          "height": 316
        },
        "id": "KZ8W9vnbJ4A7",
        "outputId": "000d1c4e-51ac-44d5-d937-988e29cf9836"
      },
      "execution_count": 58,
      "outputs": [
        {
          "output_type": "execute_result",
          "data": {
            "text/plain": [
              "Text(0.5, 15.0, 'Predicted Label')"
            ]
          },
          "metadata": {},
          "execution_count": 58
        },
        {
          "output_type": "display_data",
          "data": {
            "text/plain": [
              "<Figure size 432x288 with 2 Axes>"
            ],
            "image/png": "[encoded data removed]"
          },
          "metadata": {
            "needs_background": "light"
          }
        }
      ]
    },
    {
      "cell_type": "markdown",
      "source": [
        "####Plot Aceeptance Rate"
      ],
      "metadata": {
        "id": "0-cVJVRLvnfi"
      }
    },
    {
      "cell_type": "code",
      "source": [
        "# Create a line plot of estimated value\n",
        "fig = plt.figure(figsize=(11,5))\n",
        "plt.plot(strategy_rf_df['Acceptance Rate'],strategy_rf_df['Estimated Value'], label='Random Forest')\n",
        "plt.plot(strategy_lg_df['Acceptance Rate'],strategy_lg_df['Estimated Value'], label='Logistic Regression')\n",
        "plt.plot(strategy_xgb_df['Acceptance Rate'],strategy_xgb_df['Estimated Value'], label='XGBoost')\n",
        "plt.title('Estimated Value by Acceptance Rate for Australian Dataset')\n",
        "plt.xlabel('Acceptance Rate')\n",
        "plt.ylabel('Estimated Value')\n",
        "plt.legend()\n",
        "plt.axes().yaxis.grid()\n",
        "plt.show()"
      ],
      "metadata": {
        "colab": {
          "base_uri": "https://localhost:8080/",
          "height": 409
        },
        "id": "rGh7K8y_vjDt",
        "outputId": "53d22b19-5759-46b0-c2d5-923a34b47de1"
      },
      "execution_count": 59,
      "outputs": [
        {
          "output_type": "stream",
          "name": "stderr",
          "text": [
            "/usr/local/lib/python3.7/dist-packages/ipykernel_launcher.py:10: MatplotlibDeprecationWarning: Adding an axes using the same arguments as a previous axes currently reuses the earlier instance.  In a future version, a new instance will always be created and returned.  Meanwhile, this warning can be suppressed, and the future behavior ensured, by passing a unique label to each axes instance.\n",
            "  # Remove the CWD from sys.path while we load stuff.\n"
          ]
        },
        {
          "output_type": "display_data",
          "data": {
            "text/plain": [
              "<Figure size 792x360 with 1 Axes>"
            ],
            "image/png": "[encoded data removed]"
          },
          "metadata": {
            "needs_background": "light"
          }
        }
      ]
    }
  ]
}